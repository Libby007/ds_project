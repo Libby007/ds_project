{
 "cells": [
  {
   "cell_type": "markdown",
   "metadata": {},
   "source": [
    "# Employee Retention"
   ]
  },
  {
   "cell_type": "markdown",
   "metadata": {},
   "source": [
    "Employee turn-over is a very costly problem for companies. Understanding\n",
    "why and when employees are most likely to leave can lead to actions to improve employee\n",
    "retention as well as planning new hiring in advance.In this challenge, use a data set with info about the employees and have to predict when employees are going to quit by understanding the main drivers of employee churn."
   ]
  },
  {
   "cell_type": "markdown",
   "metadata": {},
   "source": [
    "## Objective\n",
    "* 1.predict when employees are going to quit\n",
    "* 2.main drivers of employee churn "
   ]
  },
  {
   "cell_type": "code",
   "execution_count": 1,
   "metadata": {},
   "outputs": [],
   "source": [
    "import pandas as pd\n",
    "import numpy as np\n",
    "import matplotlib.pyplot as plt\n",
    "%matplotlib inline\n",
    "\n",
    "import seaborn as sns\n",
    "# Import datetime\n",
    "import datetime\n",
    "\n",
    "# Import stats from scipy\n",
    "from scipy import stats"
   ]
  },
  {
   "cell_type": "markdown",
   "metadata": {},
   "source": [
    "# 1. Data Discovering and Processing"
   ]
  },
  {
   "cell_type": "code",
   "execution_count": 2,
   "metadata": {},
   "outputs": [
    {
     "data": {
      "text/html": [
       "<div>\n",
       "<style scoped>\n",
       "    .dataframe tbody tr th:only-of-type {\n",
       "        vertical-align: middle;\n",
       "    }\n",
       "\n",
       "    .dataframe tbody tr th {\n",
       "        vertical-align: top;\n",
       "    }\n",
       "\n",
       "    .dataframe thead th {\n",
       "        text-align: right;\n",
       "    }\n",
       "</style>\n",
       "<table border=\"1\" class=\"dataframe\">\n",
       "  <thead>\n",
       "    <tr style=\"text-align: right;\">\n",
       "      <th></th>\n",
       "      <th>employee_id</th>\n",
       "      <th>company_id</th>\n",
       "      <th>dept</th>\n",
       "      <th>seniority</th>\n",
       "      <th>salary</th>\n",
       "      <th>join_date</th>\n",
       "      <th>quit_date</th>\n",
       "    </tr>\n",
       "  </thead>\n",
       "  <tbody>\n",
       "    <tr>\n",
       "      <th>0</th>\n",
       "      <td>13021.0</td>\n",
       "      <td>7</td>\n",
       "      <td>customer_service</td>\n",
       "      <td>28</td>\n",
       "      <td>89000.0</td>\n",
       "      <td>2014-03-24</td>\n",
       "      <td>2015-10-30</td>\n",
       "    </tr>\n",
       "    <tr>\n",
       "      <th>1</th>\n",
       "      <td>825355.0</td>\n",
       "      <td>7</td>\n",
       "      <td>marketing</td>\n",
       "      <td>20</td>\n",
       "      <td>183000.0</td>\n",
       "      <td>2013-04-29</td>\n",
       "      <td>2014-04-04</td>\n",
       "    </tr>\n",
       "    <tr>\n",
       "      <th>2</th>\n",
       "      <td>927315.0</td>\n",
       "      <td>4</td>\n",
       "      <td>marketing</td>\n",
       "      <td>14</td>\n",
       "      <td>101000.0</td>\n",
       "      <td>2014-10-13</td>\n",
       "      <td>NaN</td>\n",
       "    </tr>\n",
       "    <tr>\n",
       "      <th>3</th>\n",
       "      <td>662910.0</td>\n",
       "      <td>7</td>\n",
       "      <td>customer_service</td>\n",
       "      <td>20</td>\n",
       "      <td>115000.0</td>\n",
       "      <td>2012-05-14</td>\n",
       "      <td>2013-06-07</td>\n",
       "    </tr>\n",
       "    <tr>\n",
       "      <th>4</th>\n",
       "      <td>256971.0</td>\n",
       "      <td>2</td>\n",
       "      <td>data_science</td>\n",
       "      <td>23</td>\n",
       "      <td>276000.0</td>\n",
       "      <td>2011-10-17</td>\n",
       "      <td>2014-08-22</td>\n",
       "    </tr>\n",
       "  </tbody>\n",
       "</table>\n",
       "</div>"
      ],
      "text/plain": [
       "   employee_id  company_id              dept  seniority    salary   join_date  \\\n",
       "0      13021.0           7  customer_service         28   89000.0  2014-03-24   \n",
       "1     825355.0           7         marketing         20  183000.0  2013-04-29   \n",
       "2     927315.0           4         marketing         14  101000.0  2014-10-13   \n",
       "3     662910.0           7  customer_service         20  115000.0  2012-05-14   \n",
       "4     256971.0           2      data_science         23  276000.0  2011-10-17   \n",
       "\n",
       "    quit_date  \n",
       "0  2015-10-30  \n",
       "1  2014-04-04  \n",
       "2         NaN  \n",
       "3  2013-06-07  \n",
       "4  2014-08-22  "
      ]
     },
     "execution_count": 2,
     "metadata": {},
     "output_type": "execute_result"
    }
   ],
   "source": [
    "df = pd.read_csv('employee_retention.csv')\n",
    "df.head()"
   ]
  },
  {
   "cell_type": "code",
   "execution_count": 3,
   "metadata": {},
   "outputs": [
    {
     "name": "stdout",
     "output_type": "stream",
     "text": [
      "<class 'pandas.core.frame.DataFrame'>\n",
      "RangeIndex: 24702 entries, 0 to 24701\n",
      "Data columns (total 7 columns):\n",
      " #   Column       Non-Null Count  Dtype  \n",
      "---  ------       --------------  -----  \n",
      " 0   employee_id  24702 non-null  float64\n",
      " 1   company_id   24702 non-null  int64  \n",
      " 2   dept         24702 non-null  object \n",
      " 3   seniority    24702 non-null  int64  \n",
      " 4   salary       24702 non-null  float64\n",
      " 5   join_date    24702 non-null  object \n",
      " 6   quit_date    13510 non-null  object \n",
      "dtypes: float64(2), int64(2), object(3)\n",
      "memory usage: 1.3+ MB\n"
     ]
    }
   ],
   "source": [
    "df.info()"
   ]
  },
  {
   "cell_type": "markdown",
   "metadata": {},
   "source": [
    "employee id is unique"
   ]
  },
  {
   "cell_type": "code",
   "execution_count": 4,
   "metadata": {},
   "outputs": [
    {
     "data": {
      "text/plain": [
       "True"
      ]
     },
     "execution_count": 4,
     "metadata": {},
     "output_type": "execute_result"
    }
   ],
   "source": [
    "df.employee_id.nunique()==len(df)"
   ]
  },
  {
   "cell_type": "code",
   "execution_count": 5,
   "metadata": {},
   "outputs": [
    {
     "data": {
      "text/html": [
       "<div>\n",
       "<style scoped>\n",
       "    .dataframe tbody tr th:only-of-type {\n",
       "        vertical-align: middle;\n",
       "    }\n",
       "\n",
       "    .dataframe tbody tr th {\n",
       "        vertical-align: top;\n",
       "    }\n",
       "\n",
       "    .dataframe thead th {\n",
       "        text-align: right;\n",
       "    }\n",
       "</style>\n",
       "<table border=\"1\" class=\"dataframe\">\n",
       "  <thead>\n",
       "    <tr style=\"text-align: right;\">\n",
       "      <th></th>\n",
       "      <th>employee_id</th>\n",
       "      <th>company_id</th>\n",
       "      <th>dept</th>\n",
       "      <th>seniority</th>\n",
       "      <th>salary</th>\n",
       "      <th>join_date</th>\n",
       "      <th>quit_date</th>\n",
       "    </tr>\n",
       "  </thead>\n",
       "  <tbody>\n",
       "    <tr>\n",
       "      <th>count</th>\n",
       "      <td>24702.000000</td>\n",
       "      <td>24702.000000</td>\n",
       "      <td>24702</td>\n",
       "      <td>24702.000000</td>\n",
       "      <td>24702.000000</td>\n",
       "      <td>24702</td>\n",
       "      <td>13510</td>\n",
       "    </tr>\n",
       "    <tr>\n",
       "      <th>unique</th>\n",
       "      <td>NaN</td>\n",
       "      <td>NaN</td>\n",
       "      <td>6</td>\n",
       "      <td>NaN</td>\n",
       "      <td>NaN</td>\n",
       "      <td>995</td>\n",
       "      <td>664</td>\n",
       "    </tr>\n",
       "    <tr>\n",
       "      <th>top</th>\n",
       "      <td>NaN</td>\n",
       "      <td>NaN</td>\n",
       "      <td>customer_service</td>\n",
       "      <td>NaN</td>\n",
       "      <td>NaN</td>\n",
       "      <td>2012-01-03</td>\n",
       "      <td>2015-05-08</td>\n",
       "    </tr>\n",
       "    <tr>\n",
       "      <th>freq</th>\n",
       "      <td>NaN</td>\n",
       "      <td>NaN</td>\n",
       "      <td>9180</td>\n",
       "      <td>NaN</td>\n",
       "      <td>NaN</td>\n",
       "      <td>105</td>\n",
       "      <td>111</td>\n",
       "    </tr>\n",
       "    <tr>\n",
       "      <th>mean</th>\n",
       "      <td>501604.403530</td>\n",
       "      <td>3.426969</td>\n",
       "      <td>NaN</td>\n",
       "      <td>14.127803</td>\n",
       "      <td>138183.345478</td>\n",
       "      <td>NaN</td>\n",
       "      <td>NaN</td>\n",
       "    </tr>\n",
       "    <tr>\n",
       "      <th>std</th>\n",
       "      <td>288909.026101</td>\n",
       "      <td>2.700011</td>\n",
       "      <td>NaN</td>\n",
       "      <td>8.089520</td>\n",
       "      <td>76058.184573</td>\n",
       "      <td>NaN</td>\n",
       "      <td>NaN</td>\n",
       "    </tr>\n",
       "    <tr>\n",
       "      <th>min</th>\n",
       "      <td>36.000000</td>\n",
       "      <td>1.000000</td>\n",
       "      <td>NaN</td>\n",
       "      <td>1.000000</td>\n",
       "      <td>17000.000000</td>\n",
       "      <td>NaN</td>\n",
       "      <td>NaN</td>\n",
       "    </tr>\n",
       "    <tr>\n",
       "      <th>25%</th>\n",
       "      <td>250133.750000</td>\n",
       "      <td>1.000000</td>\n",
       "      <td>NaN</td>\n",
       "      <td>7.000000</td>\n",
       "      <td>79000.000000</td>\n",
       "      <td>NaN</td>\n",
       "      <td>NaN</td>\n",
       "    </tr>\n",
       "    <tr>\n",
       "      <th>50%</th>\n",
       "      <td>500793.000000</td>\n",
       "      <td>2.000000</td>\n",
       "      <td>NaN</td>\n",
       "      <td>14.000000</td>\n",
       "      <td>123000.000000</td>\n",
       "      <td>NaN</td>\n",
       "      <td>NaN</td>\n",
       "    </tr>\n",
       "    <tr>\n",
       "      <th>75%</th>\n",
       "      <td>753137.250000</td>\n",
       "      <td>5.000000</td>\n",
       "      <td>NaN</td>\n",
       "      <td>21.000000</td>\n",
       "      <td>187000.000000</td>\n",
       "      <td>NaN</td>\n",
       "      <td>NaN</td>\n",
       "    </tr>\n",
       "    <tr>\n",
       "      <th>max</th>\n",
       "      <td>999969.000000</td>\n",
       "      <td>12.000000</td>\n",
       "      <td>NaN</td>\n",
       "      <td>99.000000</td>\n",
       "      <td>408000.000000</td>\n",
       "      <td>NaN</td>\n",
       "      <td>NaN</td>\n",
       "    </tr>\n",
       "  </tbody>\n",
       "</table>\n",
       "</div>"
      ],
      "text/plain": [
       "          employee_id    company_id              dept     seniority  \\\n",
       "count    24702.000000  24702.000000             24702  24702.000000   \n",
       "unique            NaN           NaN                 6           NaN   \n",
       "top               NaN           NaN  customer_service           NaN   \n",
       "freq              NaN           NaN              9180           NaN   \n",
       "mean    501604.403530      3.426969               NaN     14.127803   \n",
       "std     288909.026101      2.700011               NaN      8.089520   \n",
       "min         36.000000      1.000000               NaN      1.000000   \n",
       "25%     250133.750000      1.000000               NaN      7.000000   \n",
       "50%     500793.000000      2.000000               NaN     14.000000   \n",
       "75%     753137.250000      5.000000               NaN     21.000000   \n",
       "max     999969.000000     12.000000               NaN     99.000000   \n",
       "\n",
       "               salary   join_date   quit_date  \n",
       "count    24702.000000       24702       13510  \n",
       "unique            NaN         995         664  \n",
       "top               NaN  2012-01-03  2015-05-08  \n",
       "freq              NaN         105         111  \n",
       "mean    138183.345478         NaN         NaN  \n",
       "std      76058.184573         NaN         NaN  \n",
       "min      17000.000000         NaN         NaN  \n",
       "25%      79000.000000         NaN         NaN  \n",
       "50%     123000.000000         NaN         NaN  \n",
       "75%     187000.000000         NaN         NaN  \n",
       "max     408000.000000         NaN         NaN  "
      ]
     },
     "execution_count": 5,
     "metadata": {},
     "output_type": "execute_result"
    }
   ],
   "source": [
    "df.describe(include='all')"
   ]
  },
  {
   "cell_type": "markdown",
   "metadata": {},
   "source": [
    "## 1.1 remove outliers"
   ]
  },
  {
   "cell_type": "markdown",
   "metadata": {},
   "source": [
    "from above table, check the outliers 99 in seniority and 4080000 in salary"
   ]
  },
  {
   "cell_type": "code",
   "execution_count": 6,
   "metadata": {},
   "outputs": [
    {
     "data": {
      "text/html": [
       "<div>\n",
       "<style scoped>\n",
       "    .dataframe tbody tr th:only-of-type {\n",
       "        vertical-align: middle;\n",
       "    }\n",
       "\n",
       "    .dataframe tbody tr th {\n",
       "        vertical-align: top;\n",
       "    }\n",
       "\n",
       "    .dataframe thead th {\n",
       "        text-align: right;\n",
       "    }\n",
       "</style>\n",
       "<table border=\"1\" class=\"dataframe\">\n",
       "  <thead>\n",
       "    <tr style=\"text-align: right;\">\n",
       "      <th></th>\n",
       "      <th>employee_id</th>\n",
       "      <th>company_id</th>\n",
       "      <th>dept</th>\n",
       "      <th>seniority</th>\n",
       "      <th>salary</th>\n",
       "      <th>join_date</th>\n",
       "      <th>quit_date</th>\n",
       "    </tr>\n",
       "  </thead>\n",
       "  <tbody>\n",
       "    <tr>\n",
       "      <th>24700</th>\n",
       "      <td>97289.0</td>\n",
       "      <td>10</td>\n",
       "      <td>engineer</td>\n",
       "      <td>98</td>\n",
       "      <td>266000.0</td>\n",
       "      <td>2011-12-13</td>\n",
       "      <td>2015-01-09</td>\n",
       "    </tr>\n",
       "    <tr>\n",
       "      <th>24701</th>\n",
       "      <td>604052.0</td>\n",
       "      <td>1</td>\n",
       "      <td>marketing</td>\n",
       "      <td>99</td>\n",
       "      <td>185000.0</td>\n",
       "      <td>2011-07-26</td>\n",
       "      <td>2013-12-06</td>\n",
       "    </tr>\n",
       "  </tbody>\n",
       "</table>\n",
       "</div>"
      ],
      "text/plain": [
       "       employee_id  company_id       dept  seniority    salary   join_date  \\\n",
       "24700      97289.0          10   engineer         98  266000.0  2011-12-13   \n",
       "24701     604052.0           1  marketing         99  185000.0  2011-07-26   \n",
       "\n",
       "        quit_date  \n",
       "24700  2015-01-09  \n",
       "24701  2013-12-06  "
      ]
     },
     "execution_count": 6,
     "metadata": {},
     "output_type": "execute_result"
    }
   ],
   "source": [
    "df[df.seniority>90]"
   ]
  },
  {
   "cell_type": "code",
   "execution_count": 7,
   "metadata": {},
   "outputs": [
    {
     "data": {
      "text/plain": [
       "(24700, 7)"
      ]
     },
     "execution_count": 7,
     "metadata": {},
     "output_type": "execute_result"
    }
   ],
   "source": [
    "#remove the 2 outliers\n",
    "df=df[df.seniority<90] \n",
    "df.shape"
   ]
  },
  {
   "cell_type": "markdown",
   "metadata": {},
   "source": [
    "since only 2 outliers, so simply remove it, and salary>400000 looks normal since it mainly focused on department engineer and data science"
   ]
  },
  {
   "cell_type": "code",
   "execution_count": 8,
   "metadata": {},
   "outputs": [
    {
     "data": {
      "text/plain": [
       "engineer        547\n",
       "data_science    399\n",
       "Name: dept, dtype: int64"
      ]
     },
     "execution_count": 8,
     "metadata": {},
     "output_type": "execute_result"
    }
   ],
   "source": [
    "df[df.salary>300000]['dept'].value_counts()"
   ]
  },
  {
   "cell_type": "markdown",
   "metadata": {},
   "source": [
    "## 1.2 convert data type"
   ]
  },
  {
   "cell_type": "code",
   "execution_count": 9,
   "metadata": {},
   "outputs": [],
   "source": [
    "df['join_date']=pd.to_datetime(df['join_date'])\n",
    "df['quit_date']=pd.to_datetime(df['quit_date'])"
   ]
  },
  {
   "cell_type": "code",
   "execution_count": 10,
   "metadata": {},
   "outputs": [
    {
     "name": "stdout",
     "output_type": "stream",
     "text": [
      "<class 'pandas.core.frame.DataFrame'>\n",
      "Int64Index: 24700 entries, 0 to 24699\n",
      "Data columns (total 7 columns):\n",
      " #   Column       Non-Null Count  Dtype         \n",
      "---  ------       --------------  -----         \n",
      " 0   employee_id  24700 non-null  float64       \n",
      " 1   company_id   24700 non-null  int64         \n",
      " 2   dept         24700 non-null  object        \n",
      " 3   seniority    24700 non-null  int64         \n",
      " 4   salary       24700 non-null  float64       \n",
      " 5   join_date    24700 non-null  datetime64[ns]\n",
      " 6   quit_date    13508 non-null  datetime64[ns]\n",
      "dtypes: datetime64[ns](2), float64(2), int64(2), object(1)\n",
      "memory usage: 1.5+ MB\n"
     ]
    }
   ],
   "source": [
    "df.info()"
   ]
  },
  {
   "cell_type": "code",
   "execution_count": 11,
   "metadata": {},
   "outputs": [
    {
     "name": "stdout",
     "output_type": "stream",
     "text": [
      "True\n",
      "True\n",
      "True\n",
      "True\n"
     ]
    }
   ],
   "source": [
    "# based on project requirement, the employee join and quit date must between 2011-01-24 and 2015-12-13\n",
    "ends = datetime.datetime.strptime('2015-12-13','%Y-%m-%d')\n",
    "starts = datetime.datetime.strptime('2011-01-24','%Y-%m-%d')\n",
    "print(df['join_date'].max()<=ends)\n",
    "print(df['join_date'].min()>=starts)\n",
    "print(df['quit_date'].max()<=ends)\n",
    "print(df['quit_date'].min()>=starts)"
   ]
  },
  {
   "cell_type": "markdown",
   "metadata": {},
   "source": [
    "## 1.3 create new column employ_days and fill in missing values"
   ]
  },
  {
   "cell_type": "code",
   "execution_count": 12,
   "metadata": {},
   "outputs": [],
   "source": [
    "# create new column\n",
    "df['employ_days'] = (df.quit_date-df.join_date).dt.days\n",
    "# fill in msising value for emply days with ends day in 2015-12-13\n",
    "df['employ_days'].fillna((ends-df.join_date).dt.days,inplace=True)"
   ]
  },
  {
   "cell_type": "code",
   "execution_count": 13,
   "metadata": {},
   "outputs": [
    {
     "name": "stdout",
     "output_type": "stream",
     "text": [
      "<class 'pandas.core.frame.DataFrame'>\n",
      "Int64Index: 24700 entries, 0 to 24699\n",
      "Data columns (total 8 columns):\n",
      " #   Column       Non-Null Count  Dtype         \n",
      "---  ------       --------------  -----         \n",
      " 0   employee_id  24700 non-null  float64       \n",
      " 1   company_id   24700 non-null  int64         \n",
      " 2   dept         24700 non-null  object        \n",
      " 3   seniority    24700 non-null  int64         \n",
      " 4   salary       24700 non-null  float64       \n",
      " 5   join_date    24700 non-null  datetime64[ns]\n",
      " 6   quit_date    13508 non-null  datetime64[ns]\n",
      " 7   employ_days  24700 non-null  float64       \n",
      "dtypes: datetime64[ns](2), float64(3), int64(2), object(1)\n",
      "memory usage: 1.7+ MB\n"
     ]
    }
   ],
   "source": [
    "# we can see that the employ days do not have missing values now\n",
    "df.info()"
   ]
  },
  {
   "cell_type": "markdown",
   "metadata": {},
   "source": [
    " create target variable churn: if employee left, churn=1, else churn=0"
   ]
  },
  {
   "cell_type": "code",
   "execution_count": 14,
   "metadata": {},
   "outputs": [],
   "source": [
    "#make churn=1 as default\n",
    "df['churn'] = 1 \n",
    "# change churn to be 0 if quite_date is null, which means employee did not left company\n",
    "df.loc[df['quit_date'].isnull(),'churn']=0"
   ]
  },
  {
   "cell_type": "code",
   "execution_count": 15,
   "metadata": {},
   "outputs": [
    {
     "data": {
      "text/plain": [
       "1    13508\n",
       "0    11192\n",
       "Name: churn, dtype: int64"
      ]
     },
     "execution_count": 15,
     "metadata": {},
     "output_type": "execute_result"
    }
   ],
   "source": [
    "df.churn.value_counts()"
   ]
  },
  {
   "cell_type": "code",
   "execution_count": 16,
   "metadata": {},
   "outputs": [
    {
     "data": {
      "text/html": [
       "<div>\n",
       "<style scoped>\n",
       "    .dataframe tbody tr th:only-of-type {\n",
       "        vertical-align: middle;\n",
       "    }\n",
       "\n",
       "    .dataframe tbody tr th {\n",
       "        vertical-align: top;\n",
       "    }\n",
       "\n",
       "    .dataframe thead th {\n",
       "        text-align: right;\n",
       "    }\n",
       "</style>\n",
       "<table border=\"1\" class=\"dataframe\">\n",
       "  <thead>\n",
       "    <tr style=\"text-align: right;\">\n",
       "      <th></th>\n",
       "      <th>employee_id</th>\n",
       "      <th>company_id</th>\n",
       "      <th>dept</th>\n",
       "      <th>seniority</th>\n",
       "      <th>salary</th>\n",
       "      <th>join_date</th>\n",
       "      <th>quit_date</th>\n",
       "      <th>employ_days</th>\n",
       "      <th>churn</th>\n",
       "    </tr>\n",
       "  </thead>\n",
       "  <tbody>\n",
       "    <tr>\n",
       "      <th>0</th>\n",
       "      <td>13021.0</td>\n",
       "      <td>7</td>\n",
       "      <td>customer_service</td>\n",
       "      <td>28</td>\n",
       "      <td>89000.0</td>\n",
       "      <td>2014-03-24</td>\n",
       "      <td>2015-10-30</td>\n",
       "      <td>585.0</td>\n",
       "      <td>1</td>\n",
       "    </tr>\n",
       "    <tr>\n",
       "      <th>1</th>\n",
       "      <td>825355.0</td>\n",
       "      <td>7</td>\n",
       "      <td>marketing</td>\n",
       "      <td>20</td>\n",
       "      <td>183000.0</td>\n",
       "      <td>2013-04-29</td>\n",
       "      <td>2014-04-04</td>\n",
       "      <td>340.0</td>\n",
       "      <td>1</td>\n",
       "    </tr>\n",
       "    <tr>\n",
       "      <th>2</th>\n",
       "      <td>927315.0</td>\n",
       "      <td>4</td>\n",
       "      <td>marketing</td>\n",
       "      <td>14</td>\n",
       "      <td>101000.0</td>\n",
       "      <td>2014-10-13</td>\n",
       "      <td>NaT</td>\n",
       "      <td>426.0</td>\n",
       "      <td>0</td>\n",
       "    </tr>\n",
       "    <tr>\n",
       "      <th>3</th>\n",
       "      <td>662910.0</td>\n",
       "      <td>7</td>\n",
       "      <td>customer_service</td>\n",
       "      <td>20</td>\n",
       "      <td>115000.0</td>\n",
       "      <td>2012-05-14</td>\n",
       "      <td>2013-06-07</td>\n",
       "      <td>389.0</td>\n",
       "      <td>1</td>\n",
       "    </tr>\n",
       "    <tr>\n",
       "      <th>4</th>\n",
       "      <td>256971.0</td>\n",
       "      <td>2</td>\n",
       "      <td>data_science</td>\n",
       "      <td>23</td>\n",
       "      <td>276000.0</td>\n",
       "      <td>2011-10-17</td>\n",
       "      <td>2014-08-22</td>\n",
       "      <td>1040.0</td>\n",
       "      <td>1</td>\n",
       "    </tr>\n",
       "  </tbody>\n",
       "</table>\n",
       "</div>"
      ],
      "text/plain": [
       "   employee_id  company_id              dept  seniority    salary  join_date  \\\n",
       "0      13021.0           7  customer_service         28   89000.0 2014-03-24   \n",
       "1     825355.0           7         marketing         20  183000.0 2013-04-29   \n",
       "2     927315.0           4         marketing         14  101000.0 2014-10-13   \n",
       "3     662910.0           7  customer_service         20  115000.0 2012-05-14   \n",
       "4     256971.0           2      data_science         23  276000.0 2011-10-17   \n",
       "\n",
       "   quit_date  employ_days  churn  \n",
       "0 2015-10-30        585.0      1  \n",
       "1 2014-04-04        340.0      1  \n",
       "2        NaT        426.0      0  \n",
       "3 2013-06-07        389.0      1  \n",
       "4 2014-08-22       1040.0      1  "
      ]
     },
     "execution_count": 16,
     "metadata": {},
     "output_type": "execute_result"
    }
   ],
   "source": [
    "df.head()"
   ]
  },
  {
   "cell_type": "markdown",
   "metadata": {},
   "source": [
    "# 2. Hypothesis and testing"
   ]
  },
  {
   "cell_type": "markdown",
   "metadata": {},
   "source": [
    "* Null hypothesis: There is no difference between the stayed employees and left employees between 2011 Jan and 2015 Dec\n",
    "* two-side T test will run for numeric features and Chi square test for categorical features"
   ]
  },
  {
   "cell_type": "code",
   "execution_count": 17,
   "metadata": {},
   "outputs": [],
   "source": [
    "employee_stay =  df[df.churn==0].copy()\n",
    "employee_quit =  df[df.churn==1].copy()\n",
    "numeric_cols = ['seniority', 'salary','employ_days']\n",
    "categorical_cols = ['company_id','dept']"
   ]
  },
  {
   "cell_type": "markdown",
   "metadata": {},
   "source": [
    "we can see from below p-value result, for salary and employed days, it seems that it make employees quit, and show some significant diffence, but for seniority(number of years of work experience when hired), it does not seem to make significant difference between stayed and left employees"
   ]
  },
  {
   "cell_type": "code",
   "execution_count": 18,
   "metadata": {},
   "outputs": [
    {
     "name": "stdout",
     "output_type": "stream",
     "text": [
      "seniority:Ttest_indResult(statistic=-0.04298362740450959, pvalue=0.9657149327010421)\n",
      "salary:Ttest_indResult(statistic=-5.763520586411431, pvalue=8.335694924613824e-09)\n",
      "employ_days:Ttest_indResult(statistic=18.825437588630404, pvalue=1.6581403916833545e-78)\n"
     ]
    }
   ],
   "source": [
    "for col in numeric_cols:\n",
    "    test_num = stats.ttest_ind(employee_quit[col],employee_stay[col]) # do two-sided t test\n",
    "    print('{}:{}'.format(col,test_num))"
   ]
  },
  {
   "cell_type": "markdown",
   "metadata": {},
   "source": [
    "from Chi-square test we can see that company id does not make significant difference, but departement do seem to affect the churn rate"
   ]
  },
  {
   "cell_type": "code",
   "execution_count": 19,
   "metadata": {},
   "outputs": [
    {
     "name": "stdout",
     "output_type": "stream",
     "text": [
      "Chi-square for column company_id: with score 19.01931996696012 and p-value: 0.06074759035554246 under degree 11\n",
      "Chi-square for column dept: with score 42.32790836528519 and p-value: 5.0556024084381965e-08 under degree 5\n"
     ]
    }
   ],
   "source": [
    "for col in categorical_cols:\n",
    "    temp_table = pd.crosstab(df['churn'],df[col]) # index is churn=0 or 1, column = each type in col\n",
    "    # do chi square test on categorical columns : company_id and dept\n",
    "    score, p_value, dof, array = stats.chi2_contingency(temp_table)\n",
    "    print('Chi-square for column {}: with score {} and p-value: {} under degree {}'.format(col,score,p_value,dof))"
   ]
  },
  {
   "cell_type": "markdown",
   "metadata": {},
   "source": [
    "# 3. Exploratory data analysis"
   ]
  },
  {
   "cell_type": "markdown",
   "metadata": {},
   "source": [
    "from below plot, it seems that employees usually left after they joined the company for 1 year and then the end of 2 years"
   ]
  },
  {
   "cell_type": "markdown",
   "metadata": {},
   "source": [
    "## 3.1 employ day"
   ]
  },
  {
   "cell_type": "code",
   "execution_count": 20,
   "metadata": {},
   "outputs": [
    {
     "data": {
      "text/plain": [
       "<seaborn.axisgrid.FacetGrid at 0x7f8f10e462b0>"
      ]
     },
     "execution_count": 20,
     "metadata": {},
     "output_type": "execute_result"
    },
    {
     "data": {
      "image/png": "[encoded data removed]",
      "text/plain": [
       "<Figure size 720x360 with 2 Axes>"
      ]
     },
     "metadata": {
      "needs_background": "light"
     },
     "output_type": "display_data"
    }
   ],
   "source": [
    "sns.displot(df, x=\"employ_days\", col=\"churn\")"
   ]
  },
  {
   "cell_type": "markdown",
   "metadata": {},
   "source": [
    "## 3.2 Bootstrap to check numeric column"
   ]
  },
  {
   "cell_type": "markdown",
   "metadata": {},
   "source": [
    "use bootstrap to get 1000 means and show churned and stayed employees information from seniority, salary and employed days on 95% confidence level"
   ]
  },
  {
   "cell_type": "code",
   "execution_count": 21,
   "metadata": {},
   "outputs": [],
   "source": [
    "# Define the self-built function of bootstrap\n",
    "def bootstrap(cols,sample_counts):\n",
    "# create empty arrays with specific number of samples\n",
    "    left_employees_bootstrap = np.empty(sample_counts)\n",
    "    stay_employees_bootstrap = np.empty(sample_counts)\n",
    "# each time, generate random sample with size employee_quit, then calcuate mean; and this step will repeat\n",
    "# for 1000 times, so that we have 1000 means in this array left_employees_bootstrap\n",
    "    for i in range(sample_counts):\n",
    "        left_employees_bootstrap[i]=np.mean(np.random.choice(employee_quit[cols],len(employee_quit)))\n",
    "        stay_employees_bootstrap[i]=np.mean(np.random.choice(employee_stay[cols],len(employee_stay)))\n",
    "\n",
    "    return left_employees_bootstrap,stay_employees_bootstrap\n"
   ]
  },
  {
   "cell_type": "code",
   "execution_count": 34,
   "metadata": {},
   "outputs": [
    {
     "name": "stdout",
     "output_type": "stream",
     "text": [
      "\n",
      "seniority\n",
      "95% confidence level on Churned Employees: [13.98458506 14.25720499] \n",
      "\t\t     on Current Employees: [13.9797802  14.27914805]\n"
     ]
    },
    {
     "data": {
      "image/png": "[encoded data removed]",
      "text/plain": [
       "<Figure size 720x432 with 1 Axes>"
      ]
     },
     "metadata": {
      "needs_background": "light"
     },
     "output_type": "display_data"
    },
    {
     "name": "stdout",
     "output_type": "stream",
     "text": [
      "\n",
      "salary\n",
      "95% confidence level on Churned Employees: [134450.43492745 136811.53390583] \n",
      "\t\t     on Current Employees: [139724.22936026 142754.7020193 ]\n"
     ]
    },
    {
     "data": {
      "image/png": "[encoded data removed]",
      "text/plain": [
       "<Figure size 720x432 with 1 Axes>"
      ]
     },
     "metadata": {
      "needs_background": "light"
     },
     "output_type": "display_data"
    },
    {
     "name": "stdout",
     "output_type": "stream",
     "text": [
      "\n",
      "employ_days\n",
      "95% confidence level on Churned Employees: [608.35372557 619.47447994] \n",
      "\t\t     on Current Employees: [519.71130942 534.44498972]\n"
     ]
    },
    {
     "data": {
      "image/png": "[encoded data removed]",
      "text/plain": [
       "<Figure size 720x432 with 1 Axes>"
      ]
     },
     "metadata": {
      "needs_background": "light"
     },
     "output_type": "display_data"
    }
   ],
   "source": [
    "for col in numeric_cols:\n",
    "    left_employees_copy, stay_employees_copy = bootstrap(col,1000)\n",
    "# Returns the q-th percentile(s) of the array elements for 95% confidence level\n",
    "    confidence_interval_left = np.percentile(left_employees_copy,[2.5,97.5])\n",
    "    confidence_interval_stay = np.percentile(stay_employees_copy,[2.5,97.5])\n",
    "\n",
    "# show confidence interval\n",
    "    print('\\n{}'.format(col))\n",
    "    print('95% confidence level on Churned Employees:', confidence_interval_left,'\\n\\t\\t','    on Current Employees:' , confidence_interval_stay)\n",
    "\n",
    "    plt.figure(figsize=(10,6))\n",
    "# change to flattened array to show different legend color in histplot\n",
    "    x1= np.ravel(left_employees_copy)\n",
    "    y1= np.ravel(stay_employees_copy)\n",
    "# histplot with density curve\n",
    "    sns.histplot({'Churned Employees': x1, 'Current Employees': y1}, kde=True, stat='density',linewidth=0.5)\n",
    "    plt.xlabel(col)\n",
    "    plt.ylabel('Frequency')\n",
    "    plt.title('Bootstrap Means of {}'.format(col))\n",
    "    plt.show()\n"
   ]
  },
  {
   "cell_type": "markdown",
   "metadata": {},
   "source": [
    "bootstrap results are align with the two-sided t test for numeric columns: employed days and salary make churn and stayed employees to be signficantly different.\n",
    "\n",
    "Also the left employees' salary are way more less than the current employees, also most employees left the company after 2 years."
   ]
  },
  {
   "cell_type": "markdown",
   "metadata": {},
   "source": [
    "## 3.3 countplot to check categorical column"
   ]
  },
  {
   "cell_type": "code",
   "execution_count": 38,
   "metadata": {},
   "outputs": [
    {
     "data": {
      "image/png": "[encoded data removed]",
      "text/plain": [
       "<Figure size 720x432 with 1 Axes>"
      ]
     },
     "metadata": {
      "needs_background": "light"
     },
     "output_type": "display_data"
    },
    {
     "data": {
      "image/png": "[encoded data removed]",
      "text/plain": [
       "<Figure size 720x432 with 1 Axes>"
      ]
     },
     "metadata": {
      "needs_background": "light"
     },
     "output_type": "display_data"
    }
   ],
   "source": [
    "for col in categorical_cols:\n",
    "    plt.figure(figsize=(10,6))\n",
    "    sns.countplot(data=df,x=col,hue='churn')\n",
    "    plt.show()"
   ]
  },
  {
   "cell_type": "markdown",
   "metadata": {},
   "source": [
    "all 12 companies have number of employees left higher than that of stayed employees, same as department, since from below plots, we can see that the churn rates all above 50%\n",
    "* for company, company id 11 has the highest churn rate around 75%, lowest is company 12, around 50%; \n",
    "* for department, the highest churn rates occurs in sales, followed by design and marketing, the lower churn rates are in data science and engineer, but overall, the absolute values of churn rate among different departments are not too much, within 6%"
   ]
  },
  {
   "cell_type": "markdown",
   "metadata": {},
   "source": [
    "## 3.4 boxplot to check churn rate "
   ]
  },
  {
   "cell_type": "code",
   "execution_count": 148,
   "metadata": {},
   "outputs": [
    {
     "data": {
      "image/png": "[encoded data removed]",
      "text/plain": [
       "<Figure size 864x432 with 2 Axes>"
      ]
     },
     "metadata": {
      "needs_background": "light"
     },
     "output_type": "display_data"
    }
   ],
   "source": [
    "def groupby_table(col,num):\n",
    "    table = df.groupby([col,'churn'],as_index=False)['employee_id'].count()\n",
    "    churns=table[table.churn==1].employee_id # get churn rows\n",
    "    churns.index=np.arange(num,len(churns)+1)\n",
    "    return churns # return churn rows\n",
    "\n",
    "# company churn rate    \n",
    "company=round(groupby_table('company_id',1)/df.company_id.value_counts().sort_index()*100,2).to_frame('churn_rate').reset_index(level=0).rename(columns={'index':'company_id'})\n",
    "\n",
    "# department churn rate\n",
    "temp=df.dept.value_counts().sort_index().to_frame().reset_index().drop(columns='index') \n",
    "temp.index= np.arange(1,len(temp)+1)\n",
    "dept=round(groupby_table('dept',1)/temp.squeeze()*100,2).to_frame('churn_rate').reset_index(level=0).rename(columns={'index':'department'})\n",
    "\n",
    "fig, ax = plt.subplots(1,2,figsize=(12,6))\n",
    "sns.boxplot(data=company,x='company_id',y='churn_rate',ax=ax[0])\n",
    "g=sns.boxplot(data=dept,x='department',y='churn_rate',ax=ax[1])\n",
    "g.set_xticklabels(['customer_service','ds','design','engineer','marketing','sales'])\n",
    "fig.tight_layout()\n",
    "plt.show()"
   ]
  },
  {
   "cell_type": "markdown",
   "metadata": {},
   "source": [
    "regarding company 11 and 12 with the greatest and lowest churn rates, in company 11, current employees pay more less than the other peers"
   ]
  },
  {
   "cell_type": "code",
   "execution_count": 150,
   "metadata": {},
   "outputs": [
    {
     "data": {
      "text/html": [
       "<div>\n",
       "<style scoped>\n",
       "    .dataframe tbody tr th:only-of-type {\n",
       "        vertical-align: middle;\n",
       "    }\n",
       "\n",
       "    .dataframe tbody tr th {\n",
       "        vertical-align: top;\n",
       "    }\n",
       "\n",
       "    .dataframe thead th {\n",
       "        text-align: right;\n",
       "    }\n",
       "</style>\n",
       "<table border=\"1\" class=\"dataframe\">\n",
       "  <thead>\n",
       "    <tr style=\"text-align: right;\">\n",
       "      <th></th>\n",
       "      <th></th>\n",
       "      <th>seniority</th>\n",
       "      <th>salary</th>\n",
       "      <th>employ_days</th>\n",
       "    </tr>\n",
       "    <tr>\n",
       "      <th>company_id</th>\n",
       "      <th>churn</th>\n",
       "      <th></th>\n",
       "      <th></th>\n",
       "      <th></th>\n",
       "    </tr>\n",
       "  </thead>\n",
       "  <tbody>\n",
       "    <tr>\n",
       "      <th rowspan=\"2\" valign=\"top\">11</th>\n",
       "      <th>0</th>\n",
       "      <td>11.500000</td>\n",
       "      <td>55000.0</td>\n",
       "      <td>812.500000</td>\n",
       "    </tr>\n",
       "    <tr>\n",
       "      <th>1</th>\n",
       "      <td>15.333333</td>\n",
       "      <td>127750.0</td>\n",
       "      <td>550.416667</td>\n",
       "    </tr>\n",
       "    <tr>\n",
       "      <th rowspan=\"2\" valign=\"top\">12</th>\n",
       "      <th>0</th>\n",
       "      <td>11.166667</td>\n",
       "      <td>75250.0</td>\n",
       "      <td>638.000000</td>\n",
       "    </tr>\n",
       "    <tr>\n",
       "      <th>1</th>\n",
       "      <td>11.166667</td>\n",
       "      <td>70750.0</td>\n",
       "      <td>465.166667</td>\n",
       "    </tr>\n",
       "  </tbody>\n",
       "</table>\n",
       "</div>"
      ],
      "text/plain": [
       "                  seniority    salary  employ_days\n",
       "company_id churn                                  \n",
       "11         0      11.500000   55000.0   812.500000\n",
       "           1      15.333333  127750.0   550.416667\n",
       "12         0      11.166667   75250.0   638.000000\n",
       "           1      11.166667   70750.0   465.166667"
      ]
     },
     "execution_count": 150,
     "metadata": {},
     "output_type": "execute_result"
    }
   ],
   "source": [
    "company_df = df.groupby(['company_id', 'churn']).agg({'seniority':'mean', 'salary':'mean', 'employ_days':'mean'})\n",
    "company_df.loc[[11,12]]"
   ]
  },
  {
   "cell_type": "markdown",
   "metadata": {},
   "source": [
    "## 3.5 join and quit dates"
   ]
  },
  {
   "cell_type": "markdown",
   "metadata": {},
   "source": [
    "check whether or not join dates and quit dates affect the churn rate"
   ]
  },
  {
   "cell_type": "code",
   "execution_count": 164,
   "metadata": {},
   "outputs": [
    {
     "data": {
      "image/png": "[encoded data removed]",
      "text/plain": [
       "<Figure size 864x432 with 4 Axes>"
      ]
     },
     "metadata": {
      "needs_background": "light"
     },
     "output_type": "display_data"
    }
   ],
   "source": [
    "dates = df.copy()\n",
    "dates['join_year'] = df.join_date.dt.year\n",
    "dates['join_month'] = df.join_date.dt.month\n",
    "dates['quit_year'] = df.quit_date.dt.year\n",
    "dates['quit_month'] = df.quit_date.dt.month\n",
    "times = ['join_year','join_month','quit_year','quit_month']\n",
    "\n",
    "# get multiple countplot on same plots\n",
    "fig, axes =  plt.subplots(2,2,figsize=(12,6),sharex=False)\n",
    "for col,ax in zip(times,axes.ravel()):   \n",
    "    sns.countplot(data=dates,x=col,hue='churn',ax=ax)\n",
    "fig.tight_layout()\n",
    "plt.show()"
   ]
  },
  {
   "cell_type": "markdown",
   "metadata": {},
   "source": [
    "the majority of employees who joined in 2011 have gradually left in the next 4 years until 2015; the higher churn rate happens in April and May, December is the lowest"
   ]
  },
  {
   "cell_type": "markdown",
   "metadata": {},
   "source": [
    "# 4.Model"
   ]
  },
  {
   "cell_type": "code",
   "execution_count": 177,
   "metadata": {},
   "outputs": [
    {
     "name": "stdout",
     "output_type": "stream",
     "text": [
      "<class 'pandas.core.frame.DataFrame'>\n",
      "Int64Index: 24700 entries, 0 to 24699\n",
      "Data columns (total 12 columns):\n",
      " #   Column       Non-Null Count  Dtype         \n",
      "---  ------       --------------  -----         \n",
      " 0   company_id   24700 non-null  int64         \n",
      " 1   dept         24700 non-null  object        \n",
      " 2   seniority    24700 non-null  int64         \n",
      " 3   salary       24700 non-null  float64       \n",
      " 4   join_date    24700 non-null  datetime64[ns]\n",
      " 5   quit_date    13508 non-null  datetime64[ns]\n",
      " 6   employ_days  24700 non-null  float64       \n",
      " 7   churn        24700 non-null  int64         \n",
      " 8   join_year    24700 non-null  int64         \n",
      " 9   join_month   24700 non-null  int64         \n",
      " 10  quit_year    13508 non-null  float64       \n",
      " 11  quit_month   13508 non-null  float64       \n",
      "dtypes: datetime64[ns](2), float64(4), int64(5), object(1)\n",
      "memory usage: 2.4+ MB\n"
     ]
    }
   ],
   "source": [
    "model_df = dates.copy().drop(columns=['employee_id'])\n",
    "model_df.info()"
   ]
  },
  {
   "cell_type": "markdown",
   "metadata": {},
   "source": [
    "## 4.1 convert categorical data into numeric "
   ]
  },
  {
   "cell_type": "code",
   "execution_count": 183,
   "metadata": {},
   "outputs": [
    {
     "data": {
      "text/html": [
       "<div>\n",
       "<style scoped>\n",
       "    .dataframe tbody tr th:only-of-type {\n",
       "        vertical-align: middle;\n",
       "    }\n",
       "\n",
       "    .dataframe tbody tr th {\n",
       "        vertical-align: top;\n",
       "    }\n",
       "\n",
       "    .dataframe thead th {\n",
       "        text-align: right;\n",
       "    }\n",
       "</style>\n",
       "<table border=\"1\" class=\"dataframe\">\n",
       "  <thead>\n",
       "    <tr style=\"text-align: right;\">\n",
       "      <th></th>\n",
       "      <th>company_id</th>\n",
       "      <th>dept</th>\n",
       "      <th>seniority</th>\n",
       "      <th>salary</th>\n",
       "      <th>join_date</th>\n",
       "      <th>quit_date</th>\n",
       "      <th>employ_days</th>\n",
       "      <th>churn</th>\n",
       "      <th>join_year</th>\n",
       "      <th>join_month</th>\n",
       "      <th>quit_year</th>\n",
       "      <th>quit_month</th>\n",
       "    </tr>\n",
       "  </thead>\n",
       "  <tbody>\n",
       "    <tr>\n",
       "      <th>0</th>\n",
       "      <td>7</td>\n",
       "      <td>0</td>\n",
       "      <td>28</td>\n",
       "      <td>89000.0</td>\n",
       "      <td>2014-03-24</td>\n",
       "      <td>2015-10-30</td>\n",
       "      <td>585.0</td>\n",
       "      <td>1</td>\n",
       "      <td>2014</td>\n",
       "      <td>3</td>\n",
       "      <td>2015.0</td>\n",
       "      <td>10.0</td>\n",
       "    </tr>\n",
       "    <tr>\n",
       "      <th>1</th>\n",
       "      <td>7</td>\n",
       "      <td>4</td>\n",
       "      <td>20</td>\n",
       "      <td>183000.0</td>\n",
       "      <td>2013-04-29</td>\n",
       "      <td>2014-04-04</td>\n",
       "      <td>340.0</td>\n",
       "      <td>1</td>\n",
       "      <td>2013</td>\n",
       "      <td>4</td>\n",
       "      <td>2014.0</td>\n",
       "      <td>4.0</td>\n",
       "    </tr>\n",
       "    <tr>\n",
       "      <th>2</th>\n",
       "      <td>4</td>\n",
       "      <td>4</td>\n",
       "      <td>14</td>\n",
       "      <td>101000.0</td>\n",
       "      <td>2014-10-13</td>\n",
       "      <td>NaT</td>\n",
       "      <td>426.0</td>\n",
       "      <td>0</td>\n",
       "      <td>2014</td>\n",
       "      <td>10</td>\n",
       "      <td>NaN</td>\n",
       "      <td>NaN</td>\n",
       "    </tr>\n",
       "    <tr>\n",
       "      <th>3</th>\n",
       "      <td>7</td>\n",
       "      <td>0</td>\n",
       "      <td>20</td>\n",
       "      <td>115000.0</td>\n",
       "      <td>2012-05-14</td>\n",
       "      <td>2013-06-07</td>\n",
       "      <td>389.0</td>\n",
       "      <td>1</td>\n",
       "      <td>2012</td>\n",
       "      <td>5</td>\n",
       "      <td>2013.0</td>\n",
       "      <td>6.0</td>\n",
       "    </tr>\n",
       "    <tr>\n",
       "      <th>4</th>\n",
       "      <td>2</td>\n",
       "      <td>1</td>\n",
       "      <td>23</td>\n",
       "      <td>276000.0</td>\n",
       "      <td>2011-10-17</td>\n",
       "      <td>2014-08-22</td>\n",
       "      <td>1040.0</td>\n",
       "      <td>1</td>\n",
       "      <td>2011</td>\n",
       "      <td>10</td>\n",
       "      <td>2014.0</td>\n",
       "      <td>8.0</td>\n",
       "    </tr>\n",
       "  </tbody>\n",
       "</table>\n",
       "</div>"
      ],
      "text/plain": [
       "   company_id  dept  seniority    salary  join_date  quit_date  employ_days  \\\n",
       "0           7     0         28   89000.0 2014-03-24 2015-10-30        585.0   \n",
       "1           7     4         20  183000.0 2013-04-29 2014-04-04        340.0   \n",
       "2           4     4         14  101000.0 2014-10-13        NaT        426.0   \n",
       "3           7     0         20  115000.0 2012-05-14 2013-06-07        389.0   \n",
       "4           2     1         23  276000.0 2011-10-17 2014-08-22       1040.0   \n",
       "\n",
       "   churn  join_year  join_month  quit_year  quit_month  \n",
       "0      1       2014           3     2015.0        10.0  \n",
       "1      1       2013           4     2014.0         4.0  \n",
       "2      0       2014          10        NaN         NaN  \n",
       "3      1       2012           5     2013.0         6.0  \n",
       "4      1       2011          10     2014.0         8.0  "
      ]
     },
     "execution_count": 183,
     "metadata": {},
     "output_type": "execute_result"
    }
   ],
   "source": [
    "from sklearn.preprocessing import LabelEncoder\n",
    "model_df['dept'] = LabelEncoder().fit_transform(model_df['dept'])\n",
    "model_df.head()"
   ]
  },
  {
   "cell_type": "code",
   "execution_count": 184,
   "metadata": {},
   "outputs": [],
   "source": [
    "x = model_df.drop(['churn','join_date','quit_date','quit_year','quit_month'],axis=1)\n",
    "y = model_df['churn']\n",
    "# Split data into test and train\n",
    "from sklearn.model_selection import train_test_split\n",
    "x_train, x_test, y_train, y_test = train_test_split(x, y, test_size=0.2, random_state=42)\n"
   ]
  },
  {
   "cell_type": "code",
   "execution_count": 185,
   "metadata": {},
   "outputs": [
    {
     "name": "stdout",
     "output_type": "stream",
     "text": [
      "<class 'pandas.core.frame.DataFrame'>\n",
      "Int64Index: 24700 entries, 0 to 24699\n",
      "Data columns (total 7 columns):\n",
      " #   Column       Non-Null Count  Dtype  \n",
      "---  ------       --------------  -----  \n",
      " 0   company_id   24700 non-null  int64  \n",
      " 1   dept         24700 non-null  int64  \n",
      " 2   seniority    24700 non-null  int64  \n",
      " 3   salary       24700 non-null  float64\n",
      " 4   employ_days  24700 non-null  float64\n",
      " 5   join_year    24700 non-null  int64  \n",
      " 6   join_month   24700 non-null  int64  \n",
      "dtypes: float64(2), int64(5)\n",
      "memory usage: 1.5 MB\n"
     ]
    }
   ],
   "source": [
    "x.info()"
   ]
  },
  {
   "cell_type": "markdown",
   "metadata": {},
   "source": [
    "## 4.2 train model"
   ]
  },
  {
   "cell_type": "code",
   "execution_count": 187,
   "metadata": {},
   "outputs": [
    {
     "data": {
      "text/plain": [
       "RandomForestClassifier(n_estimators=200)"
      ]
     },
     "execution_count": 187,
     "metadata": {},
     "output_type": "execute_result"
    }
   ],
   "source": [
    "from sklearn.ensemble import RandomForestClassifier\n",
    "rf = RandomForestClassifier(n_estimators=200)\n",
    "rf.fit(x_train,y_train)"
   ]
  },
  {
   "cell_type": "code",
   "execution_count": 190,
   "metadata": {},
   "outputs": [
    {
     "data": {
      "image/png": "[encoded data removed]",
      "text/plain": [
       "<Figure size 576x432 with 1 Axes>"
      ]
     },
     "metadata": {
      "needs_background": "light"
     },
     "output_type": "display_data"
    }
   ],
   "source": [
    "importances = rf.feature_importances_\n",
    "features = pd.DataFrame({'feature': x.columns, 'importance': importances})\n",
    "features.sort_values(by='importance', ascending=False, inplace=True)\n",
    "\n",
    "# Display a horizontal barplot with the feature importances\n",
    "plt.figure(figsize=(8,6))\n",
    "sns.barplot(x=features['importance'], y=features['feature'], color='red', orient='h')\n",
    "plt.tight_layout()"
   ]
  },
  {
   "cell_type": "code",
   "execution_count": 193,
   "metadata": {},
   "outputs": [
    {
     "name": "stdout",
     "output_type": "stream",
     "text": [
      "Score:0.997544734130967\n"
     ]
    }
   ],
   "source": [
    "# Predit the test data\n",
    "from sklearn.metrics import roc_auc_score\n",
    "# get predict result from x_test\n",
    "predicted_result = rf.predict_proba(x_test)[:, -1]\n",
    "# compare the real test result with predicted result\n",
    "print('Score:{}'.format(roc_auc_score(y_test, predicted_result)))"
   ]
  },
  {
   "cell_type": "markdown",
   "metadata": {},
   "source": [
    "## 4.3 Predict the conversion rate"
   ]
  },
  {
   "cell_type": "code",
   "execution_count": 194,
   "metadata": {},
   "outputs": [
    {
     "name": "stdout",
     "output_type": "stream",
     "text": [
      "Predicted Employee Churn Rate: 55.01%\n",
      "Actual Churn Rate: 55.55%\n"
     ]
    }
   ],
   "source": [
    "predicted_churn_rate = predicted_result.sum() / len(predicted_result)\n",
    "\n",
    "# print the final result\n",
    "print ('Predicted Employee Churn Rate: {:.2f}%'.format(predicted_churn_rate * 100))\n",
    "print ('Actual Churn Rate: {:.2f}%'.format(np.mean(y_test) * 100))"
   ]
  },
  {
   "cell_type": "markdown",
   "metadata": {},
   "source": [
    "summary\n",
    "* the join dates are quite import to the churn reate\n",
    "* employees usually leave in the second or the end of the first year\n",
    "* low salary employees often quit the job"
   ]
  }
 ],
 "metadata": {
  "kernelspec": {
   "display_name": "Python 3.8.8 64-bit",
   "language": "python",
   "name": "python3"
  },
  "language_info": {
   "codemirror_mode": {
    "name": "ipython",
    "version": 3
   },
   "file_extension": ".py",
   "mimetype": "text/x-python",
   "name": "python",
   "nbconvert_exporter": "python",
   "pygments_lexer": "ipython3",
   "version": "3.8.8"
  },
  "orig_nbformat": 4,
  "vscode": {
   "interpreter": {
    "hash": "1455d2011cab0755b3ac7a40e4847caf9760c0dfad09d946b22090f79f2874ea"
   }
  }
 },
 "nbformat": 4,
 "nbformat_minor": 2
}
