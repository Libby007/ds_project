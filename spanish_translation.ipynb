{
 "cells": [
  {
   "cell_type": "code",
   "execution_count": 179,
   "metadata": {},
   "outputs": [],
   "source": [
    "import numpy as np\n",
    "import pandas as pd\n",
    "import seaborn as sns\n",
    "import matplotlib.pyplot as plt\n",
    "from scipy import stats\n",
    "from sklearn.tree import DecisionTreeClassifier"
   ]
  },
  {
   "cell_type": "markdown",
   "metadata": {},
   "source": [
    "# Questions"
   ]
  },
  {
   "cell_type": "markdown",
   "metadata": {},
   "source": [
    "1. introduce local translation and then compared with the old non-local translation(global one). staff did the test and the test result is negative, that is.,old non-local translation works better than local translation across Spain and LatAm. you need to check the test result\n",
    "\n",
    "2. Explain why that might be happening. Are the localized translations really worse?\n",
    "\n",
    "3. If you identified what was wrong, design an algorithm that would return FALSE if the same problem is happening in the future and TRUE if everything is good and the results can be trusted."
   ]
  },
  {
   "cell_type": "code",
   "execution_count": 180,
   "metadata": {},
   "outputs": [],
   "source": [
    "user_table=pd.read_csv('/Users/xiaoxuchen/Downloads/DS_interview/DS_take_home_challege/dataset_book/spanish_translation/user_table.csv')\n",
    "test_table=pd.read_csv('/Users/xiaoxuchen/Downloads/DS_interview/DS_take_home_challege/dataset_book/spanish_translation/test_table.csv')"
   ]
  },
  {
   "cell_type": "markdown",
   "metadata": {},
   "source": [
    "#  Data structure"
   ]
  },
  {
   "cell_type": "code",
   "execution_count": 181,
   "metadata": {},
   "outputs": [
    {
     "data": {
      "text/html": [
       "<div>\n",
       "<style scoped>\n",
       "    .dataframe tbody tr th:only-of-type {\n",
       "        vertical-align: middle;\n",
       "    }\n",
       "\n",
       "    .dataframe tbody tr th {\n",
       "        vertical-align: top;\n",
       "    }\n",
       "\n",
       "    .dataframe thead th {\n",
       "        text-align: right;\n",
       "    }\n",
       "</style>\n",
       "<table border=\"1\" class=\"dataframe\">\n",
       "  <thead>\n",
       "    <tr style=\"text-align: right;\">\n",
       "      <th></th>\n",
       "      <th>user_id</th>\n",
       "      <th>sex</th>\n",
       "      <th>age</th>\n",
       "      <th>country</th>\n",
       "    </tr>\n",
       "  </thead>\n",
       "  <tbody>\n",
       "    <tr>\n",
       "      <th>count</th>\n",
       "      <td>452867.000000</td>\n",
       "      <td>452867</td>\n",
       "      <td>452867.000000</td>\n",
       "      <td>452867</td>\n",
       "    </tr>\n",
       "    <tr>\n",
       "      <th>unique</th>\n",
       "      <td>NaN</td>\n",
       "      <td>2</td>\n",
       "      <td>NaN</td>\n",
       "      <td>17</td>\n",
       "    </tr>\n",
       "    <tr>\n",
       "      <th>top</th>\n",
       "      <td>NaN</td>\n",
       "      <td>M</td>\n",
       "      <td>NaN</td>\n",
       "      <td>Mexico</td>\n",
       "    </tr>\n",
       "    <tr>\n",
       "      <th>freq</th>\n",
       "      <td>NaN</td>\n",
       "      <td>264485</td>\n",
       "      <td>NaN</td>\n",
       "      <td>128484</td>\n",
       "    </tr>\n",
       "    <tr>\n",
       "      <th>mean</th>\n",
       "      <td>499944.805166</td>\n",
       "      <td>NaN</td>\n",
       "      <td>27.130740</td>\n",
       "      <td>NaN</td>\n",
       "    </tr>\n",
       "    <tr>\n",
       "      <th>std</th>\n",
       "      <td>288676.264784</td>\n",
       "      <td>NaN</td>\n",
       "      <td>6.776678</td>\n",
       "      <td>NaN</td>\n",
       "    </tr>\n",
       "    <tr>\n",
       "      <th>min</th>\n",
       "      <td>1.000000</td>\n",
       "      <td>NaN</td>\n",
       "      <td>18.000000</td>\n",
       "      <td>NaN</td>\n",
       "    </tr>\n",
       "    <tr>\n",
       "      <th>25%</th>\n",
       "      <td>249819.000000</td>\n",
       "      <td>NaN</td>\n",
       "      <td>22.000000</td>\n",
       "      <td>NaN</td>\n",
       "    </tr>\n",
       "    <tr>\n",
       "      <th>50%</th>\n",
       "      <td>500019.000000</td>\n",
       "      <td>NaN</td>\n",
       "      <td>26.000000</td>\n",
       "      <td>NaN</td>\n",
       "    </tr>\n",
       "    <tr>\n",
       "      <th>75%</th>\n",
       "      <td>749543.000000</td>\n",
       "      <td>NaN</td>\n",
       "      <td>31.000000</td>\n",
       "      <td>NaN</td>\n",
       "    </tr>\n",
       "    <tr>\n",
       "      <th>max</th>\n",
       "      <td>1000000.000000</td>\n",
       "      <td>NaN</td>\n",
       "      <td>70.000000</td>\n",
       "      <td>NaN</td>\n",
       "    </tr>\n",
       "  </tbody>\n",
       "</table>\n",
       "</div>"
      ],
      "text/plain": [
       "               user_id     sex            age country\n",
       "count    452867.000000  452867  452867.000000  452867\n",
       "unique             NaN       2            NaN      17\n",
       "top                NaN       M            NaN  Mexico\n",
       "freq               NaN  264485            NaN  128484\n",
       "mean     499944.805166     NaN      27.130740     NaN\n",
       "std      288676.264784     NaN       6.776678     NaN\n",
       "min           1.000000     NaN      18.000000     NaN\n",
       "25%      249819.000000     NaN      22.000000     NaN\n",
       "50%      500019.000000     NaN      26.000000     NaN\n",
       "75%      749543.000000     NaN      31.000000     NaN\n",
       "max     1000000.000000     NaN      70.000000     NaN"
      ]
     },
     "execution_count": 181,
     "metadata": {},
     "output_type": "execute_result"
    }
   ],
   "source": [
    "user_table.describe(include='all')"
   ]
  },
  {
   "cell_type": "code",
   "execution_count": 182,
   "metadata": {},
   "outputs": [
    {
     "data": {
      "text/html": [
       "<div>\n",
       "<style scoped>\n",
       "    .dataframe tbody tr th:only-of-type {\n",
       "        vertical-align: middle;\n",
       "    }\n",
       "\n",
       "    .dataframe tbody tr th {\n",
       "        vertical-align: top;\n",
       "    }\n",
       "\n",
       "    .dataframe thead th {\n",
       "        text-align: right;\n",
       "    }\n",
       "</style>\n",
       "<table border=\"1\" class=\"dataframe\">\n",
       "  <thead>\n",
       "    <tr style=\"text-align: right;\">\n",
       "      <th></th>\n",
       "      <th>user_id</th>\n",
       "      <th>date</th>\n",
       "      <th>source</th>\n",
       "      <th>device</th>\n",
       "      <th>browser_language</th>\n",
       "      <th>ads_channel</th>\n",
       "      <th>browser</th>\n",
       "      <th>conversion</th>\n",
       "      <th>test</th>\n",
       "    </tr>\n",
       "  </thead>\n",
       "  <tbody>\n",
       "    <tr>\n",
       "      <th>count</th>\n",
       "      <td>453321.000000</td>\n",
       "      <td>453321</td>\n",
       "      <td>453321</td>\n",
       "      <td>453321</td>\n",
       "      <td>453321</td>\n",
       "      <td>181877</td>\n",
       "      <td>453321</td>\n",
       "      <td>453321.000000</td>\n",
       "      <td>453321.000000</td>\n",
       "    </tr>\n",
       "    <tr>\n",
       "      <th>unique</th>\n",
       "      <td>NaN</td>\n",
       "      <td>5</td>\n",
       "      <td>3</td>\n",
       "      <td>2</td>\n",
       "      <td>3</td>\n",
       "      <td>5</td>\n",
       "      <td>7</td>\n",
       "      <td>NaN</td>\n",
       "      <td>NaN</td>\n",
       "    </tr>\n",
       "    <tr>\n",
       "      <th>top</th>\n",
       "      <td>NaN</td>\n",
       "      <td>2015-12-04</td>\n",
       "      <td>Ads</td>\n",
       "      <td>Web</td>\n",
       "      <td>ES</td>\n",
       "      <td>Facebook</td>\n",
       "      <td>Android_App</td>\n",
       "      <td>NaN</td>\n",
       "      <td>NaN</td>\n",
       "    </tr>\n",
       "    <tr>\n",
       "      <th>freq</th>\n",
       "      <td>NaN</td>\n",
       "      <td>141163</td>\n",
       "      <td>181877</td>\n",
       "      <td>251565</td>\n",
       "      <td>377547</td>\n",
       "      <td>68425</td>\n",
       "      <td>155135</td>\n",
       "      <td>NaN</td>\n",
       "      <td>NaN</td>\n",
       "    </tr>\n",
       "    <tr>\n",
       "      <th>mean</th>\n",
       "      <td>499937.514728</td>\n",
       "      <td>NaN</td>\n",
       "      <td>NaN</td>\n",
       "      <td>NaN</td>\n",
       "      <td>NaN</td>\n",
       "      <td>NaN</td>\n",
       "      <td>NaN</td>\n",
       "      <td>0.049579</td>\n",
       "      <td>0.476446</td>\n",
       "    </tr>\n",
       "    <tr>\n",
       "      <th>std</th>\n",
       "      <td>288665.193436</td>\n",
       "      <td>NaN</td>\n",
       "      <td>NaN</td>\n",
       "      <td>NaN</td>\n",
       "      <td>NaN</td>\n",
       "      <td>NaN</td>\n",
       "      <td>NaN</td>\n",
       "      <td>0.217073</td>\n",
       "      <td>0.499445</td>\n",
       "    </tr>\n",
       "    <tr>\n",
       "      <th>min</th>\n",
       "      <td>1.000000</td>\n",
       "      <td>NaN</td>\n",
       "      <td>NaN</td>\n",
       "      <td>NaN</td>\n",
       "      <td>NaN</td>\n",
       "      <td>NaN</td>\n",
       "      <td>NaN</td>\n",
       "      <td>0.000000</td>\n",
       "      <td>0.000000</td>\n",
       "    </tr>\n",
       "    <tr>\n",
       "      <th>25%</th>\n",
       "      <td>249816.000000</td>\n",
       "      <td>NaN</td>\n",
       "      <td>NaN</td>\n",
       "      <td>NaN</td>\n",
       "      <td>NaN</td>\n",
       "      <td>NaN</td>\n",
       "      <td>NaN</td>\n",
       "      <td>0.000000</td>\n",
       "      <td>0.000000</td>\n",
       "    </tr>\n",
       "    <tr>\n",
       "      <th>50%</th>\n",
       "      <td>500019.000000</td>\n",
       "      <td>NaN</td>\n",
       "      <td>NaN</td>\n",
       "      <td>NaN</td>\n",
       "      <td>NaN</td>\n",
       "      <td>NaN</td>\n",
       "      <td>NaN</td>\n",
       "      <td>0.000000</td>\n",
       "      <td>0.000000</td>\n",
       "    </tr>\n",
       "    <tr>\n",
       "      <th>75%</th>\n",
       "      <td>749522.000000</td>\n",
       "      <td>NaN</td>\n",
       "      <td>NaN</td>\n",
       "      <td>NaN</td>\n",
       "      <td>NaN</td>\n",
       "      <td>NaN</td>\n",
       "      <td>NaN</td>\n",
       "      <td>0.000000</td>\n",
       "      <td>1.000000</td>\n",
       "    </tr>\n",
       "    <tr>\n",
       "      <th>max</th>\n",
       "      <td>1000000.000000</td>\n",
       "      <td>NaN</td>\n",
       "      <td>NaN</td>\n",
       "      <td>NaN</td>\n",
       "      <td>NaN</td>\n",
       "      <td>NaN</td>\n",
       "      <td>NaN</td>\n",
       "      <td>1.000000</td>\n",
       "      <td>1.000000</td>\n",
       "    </tr>\n",
       "  </tbody>\n",
       "</table>\n",
       "</div>"
      ],
      "text/plain": [
       "               user_id        date  source  device browser_language  \\\n",
       "count    453321.000000      453321  453321  453321           453321   \n",
       "unique             NaN           5       3       2                3   \n",
       "top                NaN  2015-12-04     Ads     Web               ES   \n",
       "freq               NaN      141163  181877  251565           377547   \n",
       "mean     499937.514728         NaN     NaN     NaN              NaN   \n",
       "std      288665.193436         NaN     NaN     NaN              NaN   \n",
       "min           1.000000         NaN     NaN     NaN              NaN   \n",
       "25%      249816.000000         NaN     NaN     NaN              NaN   \n",
       "50%      500019.000000         NaN     NaN     NaN              NaN   \n",
       "75%      749522.000000         NaN     NaN     NaN              NaN   \n",
       "max     1000000.000000         NaN     NaN     NaN              NaN   \n",
       "\n",
       "       ads_channel      browser     conversion           test  \n",
       "count       181877       453321  453321.000000  453321.000000  \n",
       "unique           5            7            NaN            NaN  \n",
       "top       Facebook  Android_App            NaN            NaN  \n",
       "freq         68425       155135            NaN            NaN  \n",
       "mean           NaN          NaN       0.049579       0.476446  \n",
       "std            NaN          NaN       0.217073       0.499445  \n",
       "min            NaN          NaN       0.000000       0.000000  \n",
       "25%            NaN          NaN       0.000000       0.000000  \n",
       "50%            NaN          NaN       0.000000       0.000000  \n",
       "75%            NaN          NaN       0.000000       1.000000  \n",
       "max            NaN          NaN       1.000000       1.000000  "
      ]
     },
     "execution_count": 182,
     "metadata": {},
     "output_type": "execute_result"
    }
   ],
   "source": [
    "test_table.describe(include='all')"
   ]
  },
  {
   "cell_type": "code",
   "execution_count": 183,
   "metadata": {},
   "outputs": [
    {
     "name": "stdout",
     "output_type": "stream",
     "text": [
      "User ids are all unique in test_table\n",
      "User ids are all unique in user_table\n"
     ]
    }
   ],
   "source": [
    "if (test_table.user_id.nunique()==test_table.shape[0])==True:\n",
    "    print('User ids are all unique in test_table')\n",
    "if (user_table.user_id.nunique()==user_table.shape[0])==True:\n",
    "    print('User ids are all unique in user_table')"
   ]
  },
  {
   "cell_type": "markdown",
   "metadata": {},
   "source": [
    "from data frame information and description:\n",
    "* ads_channel has null values, check later\n",
    "* date type is object, needs to change to datetime\n",
    "* user_id is unique in user and test table\n",
    "* test table has more users than user table\n"
   ]
  },
  {
   "cell_type": "code",
   "execution_count": 184,
   "metadata": {},
   "outputs": [],
   "source": [
    "#converting the dtype of 'date' column to datetime\n",
    "test_table['date']=pd.to_datetime(test_table['date'])"
   ]
  },
  {
   "cell_type": "markdown",
   "metadata": {},
   "source": [
    "since test table has more users than user table, so use outer join to keep comprehensive information"
   ]
  },
  {
   "cell_type": "code",
   "execution_count": 185,
   "metadata": {},
   "outputs": [
    {
     "data": {
      "text/html": [
       "<div>\n",
       "<style scoped>\n",
       "    .dataframe tbody tr th:only-of-type {\n",
       "        vertical-align: middle;\n",
       "    }\n",
       "\n",
       "    .dataframe tbody tr th {\n",
       "        vertical-align: top;\n",
       "    }\n",
       "\n",
       "    .dataframe thead th {\n",
       "        text-align: right;\n",
       "    }\n",
       "</style>\n",
       "<table border=\"1\" class=\"dataframe\">\n",
       "  <thead>\n",
       "    <tr style=\"text-align: right;\">\n",
       "      <th></th>\n",
       "      <th>user_id</th>\n",
       "      <th>date</th>\n",
       "      <th>source</th>\n",
       "      <th>device</th>\n",
       "      <th>browser_language</th>\n",
       "      <th>ads_channel</th>\n",
       "      <th>browser</th>\n",
       "      <th>conversion</th>\n",
       "      <th>test</th>\n",
       "      <th>sex</th>\n",
       "      <th>age</th>\n",
       "      <th>country</th>\n",
       "    </tr>\n",
       "  </thead>\n",
       "  <tbody>\n",
       "    <tr>\n",
       "      <th>0</th>\n",
       "      <td>315281</td>\n",
       "      <td>2015-12-03</td>\n",
       "      <td>Direct</td>\n",
       "      <td>Web</td>\n",
       "      <td>ES</td>\n",
       "      <td>NaN</td>\n",
       "      <td>IE</td>\n",
       "      <td>1</td>\n",
       "      <td>0</td>\n",
       "      <td>M</td>\n",
       "      <td>32.0</td>\n",
       "      <td>Spain</td>\n",
       "    </tr>\n",
       "    <tr>\n",
       "      <th>1</th>\n",
       "      <td>497851</td>\n",
       "      <td>2015-12-04</td>\n",
       "      <td>Ads</td>\n",
       "      <td>Web</td>\n",
       "      <td>ES</td>\n",
       "      <td>Google</td>\n",
       "      <td>IE</td>\n",
       "      <td>0</td>\n",
       "      <td>1</td>\n",
       "      <td>M</td>\n",
       "      <td>21.0</td>\n",
       "      <td>Mexico</td>\n",
       "    </tr>\n",
       "    <tr>\n",
       "      <th>2</th>\n",
       "      <td>848402</td>\n",
       "      <td>2015-12-04</td>\n",
       "      <td>Ads</td>\n",
       "      <td>Web</td>\n",
       "      <td>ES</td>\n",
       "      <td>Facebook</td>\n",
       "      <td>Chrome</td>\n",
       "      <td>0</td>\n",
       "      <td>0</td>\n",
       "      <td>M</td>\n",
       "      <td>34.0</td>\n",
       "      <td>Spain</td>\n",
       "    </tr>\n",
       "    <tr>\n",
       "      <th>3</th>\n",
       "      <td>290051</td>\n",
       "      <td>2015-12-03</td>\n",
       "      <td>Ads</td>\n",
       "      <td>Mobile</td>\n",
       "      <td>Other</td>\n",
       "      <td>Facebook</td>\n",
       "      <td>Android_App</td>\n",
       "      <td>0</td>\n",
       "      <td>1</td>\n",
       "      <td>F</td>\n",
       "      <td>22.0</td>\n",
       "      <td>Mexico</td>\n",
       "    </tr>\n",
       "    <tr>\n",
       "      <th>4</th>\n",
       "      <td>548435</td>\n",
       "      <td>2015-11-30</td>\n",
       "      <td>Ads</td>\n",
       "      <td>Web</td>\n",
       "      <td>ES</td>\n",
       "      <td>Google</td>\n",
       "      <td>FireFox</td>\n",
       "      <td>0</td>\n",
       "      <td>1</td>\n",
       "      <td>M</td>\n",
       "      <td>19.0</td>\n",
       "      <td>Mexico</td>\n",
       "    </tr>\n",
       "  </tbody>\n",
       "</table>\n",
       "</div>"
      ],
      "text/plain": [
       "   user_id       date  source  device browser_language ads_channel  \\\n",
       "0   315281 2015-12-03  Direct     Web               ES         NaN   \n",
       "1   497851 2015-12-04     Ads     Web               ES      Google   \n",
       "2   848402 2015-12-04     Ads     Web               ES    Facebook   \n",
       "3   290051 2015-12-03     Ads  Mobile            Other    Facebook   \n",
       "4   548435 2015-11-30     Ads     Web               ES      Google   \n",
       "\n",
       "       browser  conversion  test sex   age country  \n",
       "0           IE           1     0   M  32.0   Spain  \n",
       "1           IE           0     1   M  21.0  Mexico  \n",
       "2       Chrome           0     0   M  34.0   Spain  \n",
       "3  Android_App           0     1   F  22.0  Mexico  \n",
       "4      FireFox           0     1   M  19.0  Mexico  "
      ]
     },
     "execution_count": 185,
     "metadata": {},
     "output_type": "execute_result"
    }
   ],
   "source": [
    "df= pd.merge(test_table,user_table,how='outer',on='user_id')\n",
    "df.head()"
   ]
  },
  {
   "cell_type": "code",
   "execution_count": 186,
   "metadata": {},
   "outputs": [
    {
     "name": "stdout",
     "output_type": "stream",
     "text": [
      "<class 'pandas.core.frame.DataFrame'>\n",
      "Int64Index: 453321 entries, 0 to 453320\n",
      "Data columns (total 12 columns):\n",
      " #   Column            Non-Null Count   Dtype         \n",
      "---  ------            --------------   -----         \n",
      " 0   user_id           453321 non-null  int64         \n",
      " 1   date              453321 non-null  datetime64[ns]\n",
      " 2   source            453321 non-null  object        \n",
      " 3   device            453321 non-null  object        \n",
      " 4   browser_language  453321 non-null  object        \n",
      " 5   ads_channel       181877 non-null  object        \n",
      " 6   browser           453321 non-null  object        \n",
      " 7   conversion        453321 non-null  int64         \n",
      " 8   test              453321 non-null  int64         \n",
      " 9   sex               452867 non-null  object        \n",
      " 10  age               452867 non-null  float64       \n",
      " 11  country           452867 non-null  object        \n",
      "dtypes: datetime64[ns](1), float64(1), int64(3), object(7)\n",
      "memory usage: 45.0+ MB\n"
     ]
    }
   ],
   "source": [
    "df.info()"
   ]
  },
  {
   "cell_type": "code",
   "execution_count": 187,
   "metadata": {},
   "outputs": [
    {
     "data": {
      "text/plain": [
       "SEO       180610\n",
       "Direct     90834\n",
       "Name: source, dtype: int64"
      ]
     },
     "execution_count": 187,
     "metadata": {},
     "output_type": "execute_result"
    }
   ],
   "source": [
    "df[df.ads_channel.isna()==True].source.value_counts()"
   ]
  },
  {
   "cell_type": "code",
   "execution_count": 188,
   "metadata": {},
   "outputs": [
    {
     "data": {
      "text/plain": [
       "0    51782\n",
       "Name: test, dtype: int64"
      ]
     },
     "execution_count": 188,
     "metadata": {},
     "output_type": "execute_result"
    }
   ],
   "source": [
    "df[df.country=='Spain'].test.value_counts()"
   ]
  },
  {
   "cell_type": "markdown",
   "metadata": {},
   "source": [
    "# Answer for Question 1: does non-local translation perform better than local translation"
   ]
  },
  {
   "cell_type": "markdown",
   "metadata": {},
   "source": [
    "1. explore the conversion ratio for these 2 groups : test=0 and test=1 to know the effects of localizing translations. \n",
    "2. apply two-tailed statistical t-test to determine whether there were statistically significant difference , and whether it is worth introducing localizing translation to the website. "
   ]
  },
  {
   "cell_type": "markdown",
   "metadata": {},
   "source": [
    "* Hypothesis\n",
    "Involving a localized Spanish translation for each country will increase conversions for Spanish-speaking countries other than Spain.\n",
    "\n",
    "*  Experiment\n",
    "whether having a localized translation results in a significant difference between control(non-localized translation,column test=1) vs local-translation(column test=0) \n"
   ]
  },
  {
   "cell_type": "code",
   "execution_count": 189,
   "metadata": {},
   "outputs": [
    {
     "data": {
      "text/html": [
       "<div>\n",
       "<style scoped>\n",
       "    .dataframe tbody tr th:only-of-type {\n",
       "        vertical-align: middle;\n",
       "    }\n",
       "\n",
       "    .dataframe tbody tr th {\n",
       "        vertical-align: top;\n",
       "    }\n",
       "\n",
       "    .dataframe thead th {\n",
       "        text-align: right;\n",
       "    }\n",
       "</style>\n",
       "<table border=\"1\" class=\"dataframe\">\n",
       "  <thead>\n",
       "    <tr style=\"text-align: right;\">\n",
       "      <th></th>\n",
       "      <th>country</th>\n",
       "      <th>test</th>\n",
       "      <th>sample_count</th>\n",
       "      <th>conversion_1_count</th>\n",
       "      <th>conversion_rate</th>\n",
       "      <th>sample%</th>\n",
       "    </tr>\n",
       "  </thead>\n",
       "  <tbody>\n",
       "    <tr>\n",
       "      <th>0</th>\n",
       "      <td>Argentina</td>\n",
       "      <td>0</td>\n",
       "      <td>9356</td>\n",
       "      <td>141</td>\n",
       "      <td>0.015071</td>\n",
       "      <td>20.0</td>\n",
       "    </tr>\n",
       "    <tr>\n",
       "      <th>1</th>\n",
       "      <td>Argentina</td>\n",
       "      <td>1</td>\n",
       "      <td>37377</td>\n",
       "      <td>513</td>\n",
       "      <td>0.013725</td>\n",
       "      <td>80.0</td>\n",
       "    </tr>\n",
       "    <tr>\n",
       "      <th>2</th>\n",
       "      <td>Bolivia</td>\n",
       "      <td>0</td>\n",
       "      <td>5550</td>\n",
       "      <td>274</td>\n",
       "      <td>0.049369</td>\n",
       "      <td>50.0</td>\n",
       "    </tr>\n",
       "    <tr>\n",
       "      <th>3</th>\n",
       "      <td>Bolivia</td>\n",
       "      <td>1</td>\n",
       "      <td>5574</td>\n",
       "      <td>267</td>\n",
       "      <td>0.047901</td>\n",
       "      <td>50.0</td>\n",
       "    </tr>\n",
       "    <tr>\n",
       "      <th>4</th>\n",
       "      <td>Chile</td>\n",
       "      <td>0</td>\n",
       "      <td>9853</td>\n",
       "      <td>474</td>\n",
       "      <td>0.048107</td>\n",
       "      <td>50.0</td>\n",
       "    </tr>\n",
       "    <tr>\n",
       "      <th>5</th>\n",
       "      <td>Chile</td>\n",
       "      <td>1</td>\n",
       "      <td>9884</td>\n",
       "      <td>507</td>\n",
       "      <td>0.051295</td>\n",
       "      <td>50.0</td>\n",
       "    </tr>\n",
       "    <tr>\n",
       "      <th>6</th>\n",
       "      <td>Colombia</td>\n",
       "      <td>0</td>\n",
       "      <td>27088</td>\n",
       "      <td>1411</td>\n",
       "      <td>0.052089</td>\n",
       "      <td>50.0</td>\n",
       "    </tr>\n",
       "    <tr>\n",
       "      <th>7</th>\n",
       "      <td>Colombia</td>\n",
       "      <td>1</td>\n",
       "      <td>26972</td>\n",
       "      <td>1364</td>\n",
       "      <td>0.050571</td>\n",
       "      <td>50.0</td>\n",
       "    </tr>\n",
       "    <tr>\n",
       "      <th>8</th>\n",
       "      <td>Costa Rica</td>\n",
       "      <td>0</td>\n",
       "      <td>2660</td>\n",
       "      <td>139</td>\n",
       "      <td>0.052256</td>\n",
       "      <td>50.0</td>\n",
       "    </tr>\n",
       "    <tr>\n",
       "      <th>9</th>\n",
       "      <td>Costa Rica</td>\n",
       "      <td>1</td>\n",
       "      <td>2649</td>\n",
       "      <td>145</td>\n",
       "      <td>0.054738</td>\n",
       "      <td>50.0</td>\n",
       "    </tr>\n",
       "    <tr>\n",
       "      <th>10</th>\n",
       "      <td>Ecuador</td>\n",
       "      <td>0</td>\n",
       "      <td>8036</td>\n",
       "      <td>395</td>\n",
       "      <td>0.049154</td>\n",
       "      <td>51.0</td>\n",
       "    </tr>\n",
       "    <tr>\n",
       "      <th>11</th>\n",
       "      <td>Ecuador</td>\n",
       "      <td>1</td>\n",
       "      <td>7859</td>\n",
       "      <td>385</td>\n",
       "      <td>0.048988</td>\n",
       "      <td>49.0</td>\n",
       "    </tr>\n",
       "    <tr>\n",
       "      <th>12</th>\n",
       "      <td>El Salvador</td>\n",
       "      <td>0</td>\n",
       "      <td>4108</td>\n",
       "      <td>220</td>\n",
       "      <td>0.053554</td>\n",
       "      <td>50.0</td>\n",
       "    </tr>\n",
       "    <tr>\n",
       "      <th>13</th>\n",
       "      <td>El Salvador</td>\n",
       "      <td>1</td>\n",
       "      <td>4067</td>\n",
       "      <td>195</td>\n",
       "      <td>0.047947</td>\n",
       "      <td>50.0</td>\n",
       "    </tr>\n",
       "    <tr>\n",
       "      <th>14</th>\n",
       "      <td>Guatemala</td>\n",
       "      <td>0</td>\n",
       "      <td>7622</td>\n",
       "      <td>386</td>\n",
       "      <td>0.050643</td>\n",
       "      <td>50.0</td>\n",
       "    </tr>\n",
       "    <tr>\n",
       "      <th>15</th>\n",
       "      <td>Guatemala</td>\n",
       "      <td>1</td>\n",
       "      <td>7503</td>\n",
       "      <td>365</td>\n",
       "      <td>0.048647</td>\n",
       "      <td>50.0</td>\n",
       "    </tr>\n",
       "    <tr>\n",
       "      <th>16</th>\n",
       "      <td>Honduras</td>\n",
       "      <td>0</td>\n",
       "      <td>4361</td>\n",
       "      <td>222</td>\n",
       "      <td>0.050906</td>\n",
       "      <td>51.0</td>\n",
       "    </tr>\n",
       "    <tr>\n",
       "      <th>17</th>\n",
       "      <td>Honduras</td>\n",
       "      <td>1</td>\n",
       "      <td>4207</td>\n",
       "      <td>200</td>\n",
       "      <td>0.047540</td>\n",
       "      <td>49.0</td>\n",
       "    </tr>\n",
       "    <tr>\n",
       "      <th>18</th>\n",
       "      <td>Mexico</td>\n",
       "      <td>0</td>\n",
       "      <td>64209</td>\n",
       "      <td>3178</td>\n",
       "      <td>0.049495</td>\n",
       "      <td>50.0</td>\n",
       "    </tr>\n",
       "    <tr>\n",
       "      <th>19</th>\n",
       "      <td>Mexico</td>\n",
       "      <td>1</td>\n",
       "      <td>64275</td>\n",
       "      <td>3290</td>\n",
       "      <td>0.051186</td>\n",
       "      <td>50.0</td>\n",
       "    </tr>\n",
       "    <tr>\n",
       "      <th>20</th>\n",
       "      <td>Nicaragua</td>\n",
       "      <td>0</td>\n",
       "      <td>3419</td>\n",
       "      <td>180</td>\n",
       "      <td>0.052647</td>\n",
       "      <td>51.0</td>\n",
       "    </tr>\n",
       "    <tr>\n",
       "      <th>21</th>\n",
       "      <td>Nicaragua</td>\n",
       "      <td>1</td>\n",
       "      <td>3304</td>\n",
       "      <td>179</td>\n",
       "      <td>0.054177</td>\n",
       "      <td>49.0</td>\n",
       "    </tr>\n",
       "    <tr>\n",
       "      <th>22</th>\n",
       "      <td>Panama</td>\n",
       "      <td>0</td>\n",
       "      <td>1966</td>\n",
       "      <td>92</td>\n",
       "      <td>0.046796</td>\n",
       "      <td>50.0</td>\n",
       "    </tr>\n",
       "    <tr>\n",
       "      <th>23</th>\n",
       "      <td>Panama</td>\n",
       "      <td>1</td>\n",
       "      <td>1985</td>\n",
       "      <td>98</td>\n",
       "      <td>0.049370</td>\n",
       "      <td>50.0</td>\n",
       "    </tr>\n",
       "    <tr>\n",
       "      <th>24</th>\n",
       "      <td>Paraguay</td>\n",
       "      <td>0</td>\n",
       "      <td>3650</td>\n",
       "      <td>177</td>\n",
       "      <td>0.048493</td>\n",
       "      <td>50.0</td>\n",
       "    </tr>\n",
       "    <tr>\n",
       "      <th>25</th>\n",
       "      <td>Paraguay</td>\n",
       "      <td>1</td>\n",
       "      <td>3697</td>\n",
       "      <td>182</td>\n",
       "      <td>0.049229</td>\n",
       "      <td>50.0</td>\n",
       "    </tr>\n",
       "    <tr>\n",
       "      <th>26</th>\n",
       "      <td>Peru</td>\n",
       "      <td>0</td>\n",
       "      <td>16869</td>\n",
       "      <td>842</td>\n",
       "      <td>0.049914</td>\n",
       "      <td>50.0</td>\n",
       "    </tr>\n",
       "    <tr>\n",
       "      <th>27</th>\n",
       "      <td>Peru</td>\n",
       "      <td>1</td>\n",
       "      <td>16797</td>\n",
       "      <td>850</td>\n",
       "      <td>0.050604</td>\n",
       "      <td>50.0</td>\n",
       "    </tr>\n",
       "    <tr>\n",
       "      <th>28</th>\n",
       "      <td>Spain</td>\n",
       "      <td>0</td>\n",
       "      <td>51782</td>\n",
       "      <td>4128</td>\n",
       "      <td>0.079719</td>\n",
       "      <td>100.0</td>\n",
       "    </tr>\n",
       "    <tr>\n",
       "      <th>29</th>\n",
       "      <td>Uruguay</td>\n",
       "      <td>0</td>\n",
       "      <td>415</td>\n",
       "      <td>5</td>\n",
       "      <td>0.012048</td>\n",
       "      <td>10.0</td>\n",
       "    </tr>\n",
       "    <tr>\n",
       "      <th>30</th>\n",
       "      <td>Uruguay</td>\n",
       "      <td>1</td>\n",
       "      <td>3719</td>\n",
       "      <td>48</td>\n",
       "      <td>0.012907</td>\n",
       "      <td>90.0</td>\n",
       "    </tr>\n",
       "    <tr>\n",
       "      <th>31</th>\n",
       "      <td>Venezuela</td>\n",
       "      <td>0</td>\n",
       "      <td>16149</td>\n",
       "      <td>813</td>\n",
       "      <td>0.050344</td>\n",
       "      <td>50.0</td>\n",
       "    </tr>\n",
       "    <tr>\n",
       "      <th>32</th>\n",
       "      <td>Venezuela</td>\n",
       "      <td>1</td>\n",
       "      <td>15905</td>\n",
       "      <td>779</td>\n",
       "      <td>0.048978</td>\n",
       "      <td>50.0</td>\n",
       "    </tr>\n",
       "  </tbody>\n",
       "</table>\n",
       "</div>"
      ],
      "text/plain": [
       "        country  test  sample_count  conversion_1_count  conversion_rate  \\\n",
       "0     Argentina     0          9356                 141         0.015071   \n",
       "1     Argentina     1         37377                 513         0.013725   \n",
       "2       Bolivia     0          5550                 274         0.049369   \n",
       "3       Bolivia     1          5574                 267         0.047901   \n",
       "4         Chile     0          9853                 474         0.048107   \n",
       "5         Chile     1          9884                 507         0.051295   \n",
       "6      Colombia     0         27088                1411         0.052089   \n",
       "7      Colombia     1         26972                1364         0.050571   \n",
       "8    Costa Rica     0          2660                 139         0.052256   \n",
       "9    Costa Rica     1          2649                 145         0.054738   \n",
       "10      Ecuador     0          8036                 395         0.049154   \n",
       "11      Ecuador     1          7859                 385         0.048988   \n",
       "12  El Salvador     0          4108                 220         0.053554   \n",
       "13  El Salvador     1          4067                 195         0.047947   \n",
       "14    Guatemala     0          7622                 386         0.050643   \n",
       "15    Guatemala     1          7503                 365         0.048647   \n",
       "16     Honduras     0          4361                 222         0.050906   \n",
       "17     Honduras     1          4207                 200         0.047540   \n",
       "18       Mexico     0         64209                3178         0.049495   \n",
       "19       Mexico     1         64275                3290         0.051186   \n",
       "20    Nicaragua     0          3419                 180         0.052647   \n",
       "21    Nicaragua     1          3304                 179         0.054177   \n",
       "22       Panama     0          1966                  92         0.046796   \n",
       "23       Panama     1          1985                  98         0.049370   \n",
       "24     Paraguay     0          3650                 177         0.048493   \n",
       "25     Paraguay     1          3697                 182         0.049229   \n",
       "26         Peru     0         16869                 842         0.049914   \n",
       "27         Peru     1         16797                 850         0.050604   \n",
       "28        Spain     0         51782                4128         0.079719   \n",
       "29      Uruguay     0           415                   5         0.012048   \n",
       "30      Uruguay     1          3719                  48         0.012907   \n",
       "31    Venezuela     0         16149                 813         0.050344   \n",
       "32    Venezuela     1         15905                 779         0.048978   \n",
       "\n",
       "    sample%  \n",
       "0      20.0  \n",
       "1      80.0  \n",
       "2      50.0  \n",
       "3      50.0  \n",
       "4      50.0  \n",
       "5      50.0  \n",
       "6      50.0  \n",
       "7      50.0  \n",
       "8      50.0  \n",
       "9      50.0  \n",
       "10     51.0  \n",
       "11     49.0  \n",
       "12     50.0  \n",
       "13     50.0  \n",
       "14     50.0  \n",
       "15     50.0  \n",
       "16     51.0  \n",
       "17     49.0  \n",
       "18     50.0  \n",
       "19     50.0  \n",
       "20     51.0  \n",
       "21     49.0  \n",
       "22     50.0  \n",
       "23     50.0  \n",
       "24     50.0  \n",
       "25     50.0  \n",
       "26     50.0  \n",
       "27     50.0  \n",
       "28    100.0  \n",
       "29     10.0  \n",
       "30     90.0  \n",
       "31     50.0  \n",
       "32     50.0  "
      ]
     },
     "execution_count": 189,
     "metadata": {},
     "output_type": "execute_result"
    }
   ],
   "source": [
    "# get table to show sample percentage and conversion rate(conversion=1) per test per country\n",
    "counts = df[['country','test','conversion']].groupby(['country','test'], as_index=False).count()\n",
    "conversions = df[['country','test','conversion']].groupby(['country','test'],as_index=False).sum()\n",
    "con_rate_per_group=pd.merge(counts,conversions,on=['country','test'])\n",
    "#rename 2 columns\n",
    "con_rate_per_group=con_rate_per_group.rename(columns={'conversion_x':'sample_count','conversion_y':'conversion_1_count'})\n",
    "con_rate_per_group['conversion_rate']=con_rate_per_group.conversion_1_count/con_rate_per_group.sample_count\n",
    "country_counts=df.groupby('country',as_index=False)['user_id'].count()\n",
    "#get sample percentage per country per test\n",
    "con_rate_per_group['sample%']=round(con_rate_per_group.sample_count/con_rate_per_group.merge(country_counts,on='country',how='left')['user_id'],2)*100\n",
    "con_rate_per_group"
   ]
  },
  {
   "cell_type": "markdown",
   "metadata": {},
   "source": [
    "from sample percentage, almost all countries have tried localized translation in a balanced way,except Argentina(20%),Uruguay(10%) and Spain(0%), since Argentina and Uruguay biased the data and accounts for 11% of data, and Spain does not have localized translation involved, therefore these 3 countries will be removed before the experiment"
   ]
  },
  {
   "cell_type": "code",
   "execution_count": 190,
   "metadata": {},
   "outputs": [
    {
     "name": "stdout",
     "output_type": "stream",
     "text": [
      "Argentina and Uruguay accounts for 11.22% of total data\n"
     ]
    }
   ],
   "source": [
    "print('Argentina and Uruguay accounts for '+str(round(len(df[df.country.isin(['Uruguay','Argentina'])])/len(df)*100,2))+'% of total data')"
   ]
  },
  {
   "cell_type": "code",
   "execution_count": 191,
   "metadata": {},
   "outputs": [],
   "source": [
    "# remove 3 countries\n",
    "df1=df[~df.country.isin (['Spain','Argentina','Uruguay'])]\n",
    "con_rate_per_group1=con_rate_per_group[~con_rate_per_group.country.isin (['Spain','Argentina','Uruguay'])]"
   ]
  },
  {
   "cell_type": "markdown",
   "metadata": {},
   "source": [
    "show test(localized-translation) vs non-localized conversion rate per date"
   ]
  },
  {
   "cell_type": "markdown",
   "metadata": {},
   "source": [
    "the 2 lines generally moves in the same direction per date, and the localized-translation(test) seems have perform better(i.e.,significant difference) in the conversion rate, will use two-tail t-test to check further"
   ]
  },
  {
   "cell_type": "code",
   "execution_count": 192,
   "metadata": {},
   "outputs": [
    {
     "data": {
      "image/png": "[encoded data removed]",
      "text/plain": [
       "<Figure size 864x432 with 1 Axes>"
      ]
     },
     "metadata": {
      "needs_background": "light"
     },
     "output_type": "display_data"
    }
   ],
   "source": [
    "from matplotlib.dates import DateFormatter\n",
    "fig, ax = plt.subplots(figsize=(12,6))\n",
    "plt.plot(df1[df1.test==1].groupby('date')['conversion'].mean(),label='test')\n",
    "plt.plot(df1[df1.test==0].groupby('date')['conversion'].mean(),label='control')\n",
    "plt.legend()\n",
    "plt.title('Conversion Rates by Time')\n",
    "plt.ylabel(\"Conversion\")\n",
    "date_form = DateFormatter(\"%y-%m-%d\") #set x axis format to be year-month-day\n",
    "ax.xaxis.set_major_formatter(date_form)\n",
    "plt.show()"
   ]
  },
  {
   "cell_type": "markdown",
   "metadata": {},
   "source": [
    "n={2*p_mean*(1-p_mean)*[(Zp - Z)^2]}/{(p1-p2)^2}  gives us appropriate sample size needed to infer with 0.8 power and 0.05 significance level:"
   ]
  },
  {
   "cell_type": "code",
   "execution_count": 193,
   "metadata": {},
   "outputs": [
    {
     "data": {
      "text/plain": [
       "13600196"
      ]
     },
     "execution_count": 193,
     "metadata": {},
     "output_type": "execute_result"
    }
   ],
   "source": [
    "def sample_power_probtest(p1, p2, power=0.8, sig=0.05):\n",
    "    z = stats.norm.isf([sig/2]) #two-sided t test\n",
    "    zp = -1 * stats.norm.isf([power]) \n",
    "    d = (p1-p2)\n",
    "    s =2*((p1+p2) /2)*(1-((p1+p2) /2)) #p_mean: (p1+p2)/2\n",
    "    n = s * ((zp + z)**2) / (d**2)\n",
    "    return int(round(n[0]))\n",
    "\n",
    "p1 = df1[df1['test']==1]['conversion'].mean()\n",
    "p2 = df1[df1['test']==0]['conversion'].mean()\n",
    "sample_power_probtest(p1, p2)"
   ]
  },
  {
   "cell_type": "markdown",
   "metadata": {},
   "source": [
    "therefore, current sample size is too small to get meanful result for statistic significant difference, otherwise, at least 5-6 months needed for experiment if we want to get meanful inference"
   ]
  },
  {
   "cell_type": "code",
   "execution_count": 194,
   "metadata": {},
   "outputs": [
    {
     "name": "stdout",
     "output_type": "stream",
     "text": [
      "Conduct experiment needs about 5.0 months for biased data\n",
      "Conduct experiment needs about 6.5 months for unbiased data\n"
     ]
    }
   ],
   "source": [
    "print('Conduct experiment needs about '+str(round((sample_power_probtest(p1, p2)/(len(df)/5)/30),1))+' months for biased data')\n",
    "print('Conduct experiment needs about '+str(round((sample_power_probtest(p1, p2)/(len(df1)/5)/30),1))+' months for unbiased data')"
   ]
  },
  {
   "cell_type": "markdown",
   "metadata": {},
   "source": [
    "show t-test value for each of the 5 days in the experiment"
   ]
  },
  {
   "cell_type": "markdown",
   "metadata": {},
   "source": [
    "from below list, the t-value on each day is small, not on the rejection region>1.96 or <1.96 if alpha=0.05; and p-value>0.05(on the right), therefore, there is no statistically significant difference between the performance on non-localized translation and locialized translation"
   ]
  },
  {
   "cell_type": "code",
   "execution_count": 195,
   "metadata": {},
   "outputs": [
    {
     "data": {
      "text/plain": [
       "[[1.4378673991518798, '0.15047'],\n",
       " [-0.39432572805503086, '0.69334'],\n",
       " [-0.926731927595662, '0.35407'],\n",
       " [0.4820453759902896, '0.62978'],\n",
       " [-0.28596493374879894, '0.77491']]"
      ]
     },
     "execution_count": 195,
     "metadata": {},
     "output_type": "execute_result"
    }
   ],
   "source": [
    "#on the left each list: t-test for each day of the experiment from 11.30 to 12.04 \n",
    "#on the right,p-values\n",
    "statistic_list = []\n",
    "for date in df1.date.unique():\n",
    "    dated_data = df1[df1.date == date]\n",
    "    statistic = (list(stats.ttest_ind(dated_data[dated_data.test == 1].conversion,\n",
    "                          dated_data[dated_data.test == 0].conversion)))\n",
    "    statistic[1] = \"%.5f\" % statistic[1] #keep 5 decimals\n",
    "    statistic_list.append(statistic)\n",
    "statistic_list"
   ]
  },
  {
   "cell_type": "markdown",
   "metadata": {},
   "source": [
    "# Answer for Question 2: Are the localized translations really worse?"
   ]
  },
  {
   "cell_type": "code",
   "execution_count": 196,
   "metadata": {},
   "outputs": [
    {
     "name": "stdout",
     "output_type": "stream",
     "text": [
      "Max difference for test: 3.7%\n"
     ]
    }
   ],
   "source": [
    "diff_test=[]\n",
    "for country in np.unique(con_rate_per_group1['country']):\n",
    "    control=con_rate_per_group1[con_rate_per_group1['country']==country]['sample_count'].iloc[0]\n",
    "    test=con_rate_per_group1[con_rate_per_group1['country']==country]['sample_count'].iloc[1]\n",
    "    diff=round(abs(test-control)/test*100,1)\n",
    "    diff_test.append(diff)\n",
    "print('Max difference for test: '+str(max(diff_test))+'%')"
   ]
  },
  {
   "cell_type": "markdown",
   "metadata": {},
   "source": [
    "from above line chart, in 5 days experiment, localized translation performs better than non-localized one on Dec 2nd and Dec 4th, but as  analyzed before, based on current small sample size, we are not able to inference the expected result, only if:\n",
    "* keep the experiment for at least another 6 months\n",
    "* keep the max difference for the 2 groups(test and control) to be 3.7%\n",
    "* make the cost available during the long experiment"
   ]
  },
  {
   "cell_type": "markdown",
   "metadata": {},
   "source": [
    "# Answer for Question 3: design algorithm"
   ]
  },
  {
   "cell_type": "code",
   "execution_count": 197,
   "metadata": {},
   "outputs": [
    {
     "name": "stdout",
     "output_type": "stream",
     "text": [
      "<class 'pandas.core.frame.DataFrame'>\n",
      "Int64Index: 350672 entries, 1 to 453320\n",
      "Data columns (total 12 columns):\n",
      " #   Column            Non-Null Count   Dtype         \n",
      "---  ------            --------------   -----         \n",
      " 0   user_id           350672 non-null  int64         \n",
      " 1   date              350672 non-null  datetime64[ns]\n",
      " 2   source            350672 non-null  object        \n",
      " 3   device            350672 non-null  object        \n",
      " 4   browser_language  350672 non-null  object        \n",
      " 5   ads_channel       140573 non-null  object        \n",
      " 6   browser           350672 non-null  object        \n",
      " 7   conversion        350672 non-null  int64         \n",
      " 8   test              350672 non-null  int64         \n",
      " 9   sex               350218 non-null  object        \n",
      " 10  age               350218 non-null  float64       \n",
      " 11  country           350218 non-null  object        \n",
      "dtypes: datetime64[ns](1), float64(1), int64(3), object(7)\n",
      "memory usage: 34.8+ MB\n"
     ]
    }
   ],
   "source": [
    "df1.info()"
   ]
  },
  {
   "cell_type": "code",
   "execution_count": 206,
   "metadata": {},
   "outputs": [
    {
     "data": {
      "text/plain": [
       "user_id                  0\n",
       "date                     0\n",
       "source                   0\n",
       "device                   0\n",
       "browser_language         0\n",
       "ads_channel         209829\n",
       "browser                  0\n",
       "conversion               0\n",
       "test                     0\n",
       "sex                      0\n",
       "age                      0\n",
       "country                  0\n",
       "dtype: int64"
      ]
     },
     "execution_count": 206,
     "metadata": {},
     "output_type": "execute_result"
    }
   ],
   "source": [
    "df1.isna().sum()"
   ]
  },
  {
   "cell_type": "markdown",
   "metadata": {},
   "source": [
    "convert categorical columns into numeric columns"
   ]
  },
  {
   "cell_type": "code",
   "execution_count": 204,
   "metadata": {},
   "outputs": [],
   "source": [
    "# remove 454 rows from sex, as well as age and country\n",
    "df1=df1.dropna(subset=['sex'])\n",
    "df1.shape[0]"
   ]
  },
  {
   "cell_type": "code",
   "execution_count": null,
   "metadata": {},
   "outputs": [],
   "source": [
    "# or impute median age to the nan\n",
    "# impute = Imputer(missing_values = 'NaN', strategy = 'median', axis = 0, copy = True)\n",
    "# imputed = DataFrame(impute.fit_transform(X))\n",
    "# imputed.columns = X.columns.values"
   ]
  },
  {
   "cell_type": "code",
   "execution_count": 212,
   "metadata": {},
   "outputs": [],
   "source": [
    "# fillin ads_channel na to be 'no',otherwise, label code does not work\n",
    "df1.ads_channel=df1.ads_channel.fillna(value='no')"
   ]
  },
  {
   "cell_type": "code",
   "execution_count": 227,
   "metadata": {},
   "outputs": [
    {
     "data": {
      "text/html": [
       "<div>\n",
       "<style scoped>\n",
       "    .dataframe tbody tr th:only-of-type {\n",
       "        vertical-align: middle;\n",
       "    }\n",
       "\n",
       "    .dataframe tbody tr th {\n",
       "        vertical-align: top;\n",
       "    }\n",
       "\n",
       "    .dataframe thead th {\n",
       "        text-align: right;\n",
       "    }\n",
       "</style>\n",
       "<table border=\"1\" class=\"dataframe\">\n",
       "  <thead>\n",
       "    <tr style=\"text-align: right;\">\n",
       "      <th></th>\n",
       "      <th>source</th>\n",
       "      <th>device</th>\n",
       "      <th>browser_language</th>\n",
       "      <th>ads_channel</th>\n",
       "      <th>browser</th>\n",
       "      <th>sex</th>\n",
       "      <th>age</th>\n",
       "      <th>country</th>\n",
       "    </tr>\n",
       "  </thead>\n",
       "  <tbody>\n",
       "    <tr>\n",
       "      <th>1</th>\n",
       "      <td>0</td>\n",
       "      <td>1</td>\n",
       "      <td>1</td>\n",
       "      <td>2</td>\n",
       "      <td>3</td>\n",
       "      <td>1</td>\n",
       "      <td>21.0</td>\n",
       "      <td>8</td>\n",
       "    </tr>\n",
       "    <tr>\n",
       "      <th>3</th>\n",
       "      <td>0</td>\n",
       "      <td>0</td>\n",
       "      <td>2</td>\n",
       "      <td>1</td>\n",
       "      <td>0</td>\n",
       "      <td>0</td>\n",
       "      <td>22.0</td>\n",
       "      <td>8</td>\n",
       "    </tr>\n",
       "    <tr>\n",
       "      <th>4</th>\n",
       "      <td>0</td>\n",
       "      <td>1</td>\n",
       "      <td>1</td>\n",
       "      <td>2</td>\n",
       "      <td>2</td>\n",
       "      <td>1</td>\n",
       "      <td>19.0</td>\n",
       "      <td>8</td>\n",
       "    </tr>\n",
       "    <tr>\n",
       "      <th>5</th>\n",
       "      <td>1</td>\n",
       "      <td>0</td>\n",
       "      <td>1</td>\n",
       "      <td>5</td>\n",
       "      <td>0</td>\n",
       "      <td>0</td>\n",
       "      <td>22.0</td>\n",
       "      <td>13</td>\n",
       "    </tr>\n",
       "    <tr>\n",
       "      <th>6</th>\n",
       "      <td>2</td>\n",
       "      <td>0</td>\n",
       "      <td>2</td>\n",
       "      <td>5</td>\n",
       "      <td>0</td>\n",
       "      <td>1</td>\n",
       "      <td>35.0</td>\n",
       "      <td>8</td>\n",
       "    </tr>\n",
       "  </tbody>\n",
       "</table>\n",
       "</div>"
      ],
      "text/plain": [
       "   source  device  browser_language  ads_channel  browser  sex   age  country\n",
       "1       0       1                 1            2        3    1  21.0        8\n",
       "3       0       0                 2            1        0    0  22.0        8\n",
       "4       0       1                 1            2        2    1  19.0        8\n",
       "5       1       0                 1            5        0    0  22.0       13\n",
       "6       2       0                 2            5        0    1  35.0        8"
      ]
     },
     "execution_count": 227,
     "metadata": {},
     "output_type": "execute_result"
    }
   ],
   "source": [
    "#We are performing a numerical encoding to the categorical features, using the sklearn label encoder.\n",
    "from sklearn.preprocessing import LabelEncoder\n",
    "x = df1.copy()\n",
    "for feature in ['browser_language', 'country', 'browser', 'ads_channel', 'device', 'source', 'sex']:\n",
    "    lbl_enc = LabelEncoder()\n",
    "    x[feature] = lbl_enc.fit_transform(x[feature])\n",
    "    if feature == 'country':\n",
    "        coun = list(lbl_enc.inverse_transform(x[feature]))\n",
    "x = x.drop(['conversion','date','test','user_id'], axis = 1)\n",
    "y =df1.test\n",
    "x.head()"
   ]
  },
  {
   "cell_type": "code",
   "execution_count": 220,
   "metadata": {},
   "outputs": [
    {
     "data": {
      "text/plain": [
       "<AxesSubplot:xlabel='feature', ylabel='value'>"
      ]
     },
     "execution_count": 220,
     "metadata": {},
     "output_type": "execute_result"
    },
    {
     "data": {
      "image/png": "[encoded data removed]",
      "text/plain": [
       "<Figure size 864x432 with 1 Axes>"
      ]
     },
     "metadata": {
      "needs_background": "light"
     },
     "output_type": "display_data"
    }
   ],
   "source": [
    "feature = ['browser_language', 'country', 'browser', 'ads_channel', 'device', 'source', 'sex','age']\n",
    "model = DecisionTreeClassifier()\n",
    "model.fit(x[feature], y)\n",
    "feature_importances = model.feature_importances_\n",
    "columns = ['feature', 'value']\n",
    "importance = pd.DataFrame(feature_importances, index=feature).reset_index()\n",
    "importance.columns = columns\n",
    "plt.figure(figsize=(12,6))\n",
    "sns.barplot(x='feature', y ='value', data=importance)"
   ]
  },
  {
   "cell_type": "markdown",
   "metadata": {},
   "source": [
    "it seems that country and age have the maximum impact on the result."
   ]
  },
  {
   "cell_type": "markdown",
   "metadata": {},
   "source": [
    "# tune decision tree"
   ]
  },
  {
   "cell_type": "code",
   "execution_count": 233,
   "metadata": {},
   "outputs": [
    {
     "name": "stdout",
     "output_type": "stream",
     "text": [
      "Tuned Decision Tree Parameters: {'criterion': 'entropy', 'max_depth': 5, 'max_features': 1, 'min_samples_leaf': 1}\n",
      "Best score is 0.5004311643252034\n"
     ]
    }
   ],
   "source": [
    "from sklearn.model_selection import RandomizedSearchCV\n",
    "from scipy.stats import randint\n",
    "# Setup the parameters and distributions to sample from: param_dist\n",
    "param_dist = {\"max_depth\": [5, None],\n",
    "              \"max_features\": randint(1, 9),\n",
    "              \"min_samples_leaf\": randint(1, 20),\n",
    "              \"criterion\": [\"gini\", \"entropy\"]}\n",
    "\n",
    "# Instantiate a Decision Tree classifier: tree\n",
    "tree = DecisionTreeClassifier()\n",
    "\n",
    "# Instantiate the RandomizedSearchCV object: tree_cv\n",
    "tree_cv = RandomizedSearchCV(tree, param_dist, cv=5)\n",
    "\n",
    "# Fit it to the data\n",
    "tree_cv.fit(x,y)\n",
    "\n",
    "# Print the tuned parameters and score\n",
    "print(\"Tuned Decision Tree Parameters: {}\".format(tree_cv.best_params_))\n",
    "print(\"Best score is {}\".format(tree_cv.best_score_))"
   ]
  },
  {
   "cell_type": "code",
   "execution_count": null,
   "metadata": {},
   "outputs": [],
   "source": []
  }
 ],
 "metadata": {
  "kernelspec": {
   "display_name": "Python 3.8.8 64-bit",
   "language": "python",
   "name": "python3"
  },
  "language_info": {
   "codemirror_mode": {
    "name": "ipython",
    "version": 3
   },
   "file_extension": ".py",
   "mimetype": "text/x-python",
   "name": "python",
   "nbconvert_exporter": "python",
   "pygments_lexer": "ipython3",
   "version": "3.8.8"
  },
  "orig_nbformat": 4,
  "vscode": {
   "interpreter": {
    "hash": "1455d2011cab0755b3ac7a40e4847caf9760c0dfad09d946b22090f79f2874ea"
   }
  }
 },
 "nbformat": 4,
 "nbformat_minor": 2
}
